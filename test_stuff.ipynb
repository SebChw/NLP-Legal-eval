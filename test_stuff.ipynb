{
 "cells": [
  {
   "cell_type": "code",
   "execution_count": 1,
   "metadata": {},
   "outputs": [
    {
     "name": "stderr",
     "output_type": "stream",
     "text": [
      "Found cached dataset json (D:/hf_datasets/json/default-5075b1c63c2a9678/0.0.0/fe5dd6ea2639a6df622901539cb550cf8797e5a6b2dd7af1cf934bed8e233e6e)\n"
     ]
    },
    {
     "data": {
      "application/vnd.jupyter.widget-view+json": {
       "model_id": "9b6f657d11da44b5a75c3452ba007486",
       "version_major": 2,
       "version_minor": 0
      },
      "text/plain": [
       "  0%|          | 0/1 [00:00<?, ?it/s]"
      ]
     },
     "metadata": {},
     "output_type": "display_data"
    },
    {
     "name": "stderr",
     "output_type": "stream",
     "text": [
      "Found cached dataset json (D:/hf_datasets/json/default-a8e9242f0c3ba640/0.0.0/fe5dd6ea2639a6df622901539cb550cf8797e5a6b2dd7af1cf934bed8e233e6e)\n"
     ]
    },
    {
     "data": {
      "application/vnd.jupyter.widget-view+json": {
       "model_id": "0df3620b92e04cefa853f8b155df7fbd",
       "version_major": 2,
       "version_minor": 0
      },
      "text/plain": [
       "  0%|          | 0/1 [00:00<?, ?it/s]"
      ]
     },
     "metadata": {},
     "output_type": "display_data"
    },
    {
     "name": "stderr",
     "output_type": "stream",
     "text": [
      "Loading cached processed dataset at D:\\hf_datasets\\json\\default-5075b1c63c2a9678\\0.0.0\\fe5dd6ea2639a6df622901539cb550cf8797e5a6b2dd7af1cf934bed8e233e6e\\cache-f24c569325b47efb.arrow\n",
      "Loading cached processed dataset at D:\\hf_datasets\\json\\default-a8e9242f0c3ba640\\0.0.0\\fe5dd6ea2639a6df622901539cb550cf8797e5a6b2dd7af1cf934bed8e233e6e\\cache-811f1d0ca8e28c67.arrow\n"
     ]
    }
   ],
   "source": [
    "from utils import get_hf_dataset\n",
    "\n",
    "%load_ext autoreload\n",
    "%autoreload 2\n",
    "\n",
    "dataset = get_hf_dataset()"
   ]
  },
  {
   "cell_type": "code",
   "execution_count": 2,
   "metadata": {},
   "outputs": [],
   "source": [
    "# dataset['train'][0][\"annotations\"]"
   ]
  },
  {
   "cell_type": "code",
   "execution_count": 3,
   "metadata": {},
   "outputs": [],
   "source": [
    "# def true_if_more_than_one_label(example):\n",
    "#     for annotation in example['annotations']:\n",
    "#         if len(annotation['value']['labels']) > 1:\n",
    "#             return {\"more_than2\": True}\n",
    "#     return {\"more_than2\": False}"
   ]
  },
  {
   "cell_type": "code",
   "execution_count": 4,
   "metadata": {},
   "outputs": [],
   "source": [
    "# dataset_count_labels = dataset.map(true_if_more_than_one_label)"
   ]
  },
  {
   "cell_type": "code",
   "execution_count": 5,
   "metadata": {},
   "outputs": [],
   "source": [
    "# dataset_couAnt_labels.filter(lambda example: example['more_than2'] == True)"
   ]
  },
  {
   "cell_type": "code",
   "execution_count": 6,
   "metadata": {},
   "outputs": [
    {
     "name": "stderr",
     "output_type": "stream",
     "text": [
      "Loading cached processed dataset at D:\\hf_datasets\\json\\default-5075b1c63c2a9678\\0.0.0\\fe5dd6ea2639a6df622901539cb550cf8797e5a6b2dd7af1cf934bed8e233e6e\\cache-8cced3656bf06324.arrow\n",
      "Loading cached processed dataset at D:\\hf_datasets\\json\\default-a8e9242f0c3ba640\\0.0.0\\fe5dd6ea2639a6df622901539cb550cf8797e5a6b2dd7af1cf934bed8e233e6e\\cache-f578cc1025491ee8.arrow\n"
     ]
    }
   ],
   "source": [
    "from utils import parse_to_ner\n",
    "dataset_ner = parse_to_ner(dataset) "
   ]
  },
  {
   "cell_type": "code",
   "execution_count": 7,
   "metadata": {},
   "outputs": [],
   "source": [
    "#print(dataset_ner['train'][0]['tokens'], dataset_ner['train'][0]['ner_tags'], sep=\"\\n\")"
   ]
  },
  {
   "cell_type": "code",
   "execution_count": 8,
   "metadata": {},
   "outputs": [],
   "source": [
    "from baselines import TurboSimpleBaseline, SimpleBaselineEvalPipeline\n",
    "\n",
    "baseline1 = TurboSimpleBaseline()\n",
    "baseline1.fit(dataset_ner['train'])"
   ]
  },
  {
   "cell_type": "code",
   "execution_count": 9,
   "metadata": {},
   "outputs": [],
   "source": [
    "# tokens = dataset_ner['test'][0]['tokens']\n",
    "# prediction = [x['entity'] for x in baseline1.predict([\" \".join(tokens)])[0]]\n",
    "# target = dataset_ner['test'][0]['ner_tags']\n",
    "# print(\"TOKEN\", \"PREDICTION\", \"TARGET\", sep=\"\\t\")\n",
    "# for token, pred, targ in zip(tokens, prediction, target):\n",
    "#     print(token, pred, targ, sep=\"\\t\")"
   ]
  },
  {
   "cell_type": "code",
   "execution_count": 10,
   "metadata": {},
   "outputs": [],
   "source": [
    "from evaluate import evaluator\n",
    "from constants import TASK\n",
    "task_evaluator = evaluator(TASK)"
   ]
  },
  {
   "cell_type": "code",
   "execution_count": 11,
   "metadata": {},
   "outputs": [
    {
     "name": "stderr",
     "output_type": "stream",
     "text": [
      "Loading cached processed dataset at D:\\hf_datasets\\json\\default-a8e9242f0c3ba640\\0.0.0\\fe5dd6ea2639a6df622901539cb550cf8797e5a6b2dd7af1cf934bed8e233e6e\\cache-4f742880914c9247.arrow\n"
     ]
    }
   ],
   "source": [
    "results = task_evaluator.compute(\n",
    "    model_or_pipeline=SimpleBaselineEvalPipeline(baseline1),\n",
    "    data=dataset_ner['test'],\n",
    "    metric=\"seqeval\",\n",
    ")"
   ]
  },
  {
   "cell_type": "code",
   "execution_count": 60,
   "metadata": {},
   "outputs": [
    {
     "data": {
      "text/plain": [
       "{'CASE_NUMBER': {'precision': 0.0, 'recall': 0.0, 'f1': 0.0, 'number': 119},\n",
       " 'COURT': {'precision': 0.0005197505197505198,\n",
       "  'recall': 0.003389830508474576,\n",
       "  'f1': 0.0009013068949977466,\n",
       "  'number': 295},\n",
       " 'DATE': {'precision': 0.006097560975609756,\n",
       "  'recall': 0.04186046511627907,\n",
       "  'f1': 0.010644589000591367,\n",
       "  'number': 215},\n",
       " 'GPE': {'precision': 0.03896103896103896,\n",
       "  'recall': 0.0196078431372549,\n",
       "  'f1': 0.02608695652173913,\n",
       "  'number': 153},\n",
       " 'JUDGE': {'precision': 0.043478260869565216,\n",
       "  'recall': 0.023809523809523808,\n",
       "  'f1': 0.030769230769230767,\n",
       "  'number': 168},\n",
       " 'LAWYER': {'precision': 0.06779661016949153,\n",
       "  'recall': 0.02385685884691849,\n",
       "  'f1': 0.03529411764705882,\n",
       "  'number': 503},\n",
       " 'ORG': {'precision': 0.0026295699380778693,\n",
       "  'recall': 0.1962025316455696,\n",
       "  'f1': 0.005189587344103123,\n",
       "  'number': 158},\n",
       " 'OTHER_PERSON': {'precision': 0.030965391621129327,\n",
       "  'recall': 0.12927756653992395,\n",
       "  'f1': 0.04996326230712712,\n",
       "  'number': 263},\n",
       " 'PETITIONER': {'precision': 0.0037593984962406013,\n",
       "  'recall': 0.01485148514851485,\n",
       "  'f1': 0.005999999999999999,\n",
       "  'number': 202},\n",
       " 'PRECEDENT': {'precision': 0.0, 'recall': 0.0, 'f1': 0.0, 'number': 177},\n",
       " 'PROVISION': {'precision': 0.013719512195121951,\n",
       "  'recall': 0.10546875,\n",
       "  'f1': 0.024280575539568347,\n",
       "  'number': 256},\n",
       " 'RESPONDENT': {'precision': 0.0013550135501355014,\n",
       "  'recall': 0.0032679738562091504,\n",
       "  'f1': 0.0019157088122605365,\n",
       "  'number': 306},\n",
       " 'STATUTE': {'precision': 0.022645393721049924,\n",
       "  'recall': 0.21568627450980393,\n",
       "  'f1': 0.04098742431299488,\n",
       "  'number': 204},\n",
       " 'WITNESS': {'precision': 0.007936507936507936,\n",
       "  'recall': 0.018518518518518517,\n",
       "  'f1': 0.01111111111111111,\n",
       "  'number': 54},\n",
       " 'overall_precision': 0.0067926639229632,\n",
       " 'overall_recall': 0.05532053368044256,\n",
       " 'overall_f1': 0.012099644128113879,\n",
       " 'overall_accuracy': 0.21748779822639344,\n",
       " 'total_time_in_seconds': 0.864100699982373,\n",
       " 'samples_per_second': 1242.9106931887784,\n",
       " 'latency_in_seconds': 0.000804563035365338}"
      ]
     },
     "execution_count": 60,
     "metadata": {},
     "output_type": "execute_result"
    }
   ],
   "source": [
    "results"
   ]
  },
  {
   "cell_type": "code",
   "execution_count": null,
   "metadata": {},
   "outputs": [],
   "source": []
  }
 ],
 "metadata": {
  "kernelspec": {
   "display_name": "base",
   "language": "python",
   "name": "python3"
  },
  "language_info": {
   "codemirror_mode": {
    "name": "ipython",
    "version": 3
   },
   "file_extension": ".py",
   "mimetype": "text/x-python",
   "name": "python",
   "nbconvert_exporter": "python",
   "pygments_lexer": "ipython3",
   "version": "3.10.10"
  },
  "orig_nbformat": 4
 },
 "nbformat": 4,
 "nbformat_minor": 2
}
