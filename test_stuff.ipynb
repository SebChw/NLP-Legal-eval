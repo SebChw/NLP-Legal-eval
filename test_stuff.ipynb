{
 "cells": [
  {
   "cell_type": "code",
   "execution_count": 27,
   "metadata": {},
   "outputs": [
    {
     "name": "stdout",
     "output_type": "stream",
     "text": [
      "The autoreload extension is already loaded. To reload it, use:\n",
      "  %reload_ext autoreload\n"
     ]
    },
    {
     "name": "stderr",
     "output_type": "stream",
     "text": [
      "Found cached dataset json (D:/hf_datasets/json/default-5075b1c63c2a9678/0.0.0/fe5dd6ea2639a6df622901539cb550cf8797e5a6b2dd7af1cf934bed8e233e6e)\n"
     ]
    },
    {
     "data": {
      "application/vnd.jupyter.widget-view+json": {
       "model_id": "4dc165633c234d31996371ccde34768f",
       "version_major": 2,
       "version_minor": 0
      },
      "text/plain": [
       "  0%|          | 0/1 [00:00<?, ?it/s]"
      ]
     },
     "metadata": {},
     "output_type": "display_data"
    },
    {
     "name": "stderr",
     "output_type": "stream",
     "text": [
      "Found cached dataset json (D:/hf_datasets/json/default-a8e9242f0c3ba640/0.0.0/fe5dd6ea2639a6df622901539cb550cf8797e5a6b2dd7af1cf934bed8e233e6e)\n"
     ]
    },
    {
     "data": {
      "application/vnd.jupyter.widget-view+json": {
       "model_id": "6181e0589f0e4b67a60fb56f300b6730",
       "version_major": 2,
       "version_minor": 0
      },
      "text/plain": [
       "  0%|          | 0/1 [00:00<?, ?it/s]"
      ]
     },
     "metadata": {},
     "output_type": "display_data"
    },
    {
     "name": "stderr",
     "output_type": "stream",
     "text": [
      "Loading cached processed dataset at D:\\hf_datasets\\json\\default-5075b1c63c2a9678\\0.0.0\\fe5dd6ea2639a6df622901539cb550cf8797e5a6b2dd7af1cf934bed8e233e6e\\cache-a90b6bc6479aab82.arrow\n",
      "Loading cached processed dataset at D:\\hf_datasets\\json\\default-a8e9242f0c3ba640\\0.0.0\\fe5dd6ea2639a6df622901539cb550cf8797e5a6b2dd7af1cf934bed8e233e6e\\cache-10303babc9da22f0.arrow\n"
     ]
    }
   ],
   "source": [
    "from utils import get_hf_dataset\n",
    "\n",
    "%load_ext autoreload\n",
    "%autoreload 2\n",
    "\n",
    "dataset = get_hf_dataset()"
   ]
  },
  {
   "cell_type": "code",
   "execution_count": 28,
   "metadata": {},
   "outputs": [],
   "source": [
    "# dataset['train'][0][\"annotations\"]"
   ]
  },
  {
   "cell_type": "code",
   "execution_count": 17,
   "metadata": {},
   "outputs": [],
   "source": [
    "# def true_if_more_than_one_label(example):\n",
    "#     for annotation in example['annotations']:\n",
    "#         if len(annotation['value']['labels']) > 1:\n",
    "#             return {\"more_than2\": True}\n",
    "#     return {\"more_than2\": False}"
   ]
  },
  {
   "cell_type": "code",
   "execution_count": 18,
   "metadata": {},
   "outputs": [],
   "source": [
    "# dataset_count_labels = dataset.map(true_if_more_than_one_label)"
   ]
  },
  {
   "cell_type": "code",
   "execution_count": 19,
   "metadata": {},
   "outputs": [],
   "source": [
    "# dataset_couAnt_labels.filter(lambda example: example['more_than2'] == True)"
   ]
  },
  {
   "cell_type": "code",
   "execution_count": 29,
   "metadata": {},
   "outputs": [
    {
     "data": {
      "application/vnd.jupyter.widget-view+json": {
       "model_id": "d7989babcc3a486588841fb39d6d0edc",
       "version_major": 2,
       "version_minor": 0
      },
      "text/plain": [
       "Map:   0%|          | 0/10995 [00:00<?, ? examples/s]"
      ]
     },
     "metadata": {},
     "output_type": "display_data"
    },
    {
     "data": {
      "application/vnd.jupyter.widget-view+json": {
       "model_id": "8b5502afa38d4767aa0779d55746beee",
       "version_major": 2,
       "version_minor": 0
      },
      "text/plain": [
       "Map:   0%|          | 0/1074 [00:00<?, ? examples/s]"
      ]
     },
     "metadata": {},
     "output_type": "display_data"
    }
   ],
   "source": [
    "from utils import parse_to_ner\n",
    "dataset_ner = parse_to_ner(dataset) "
   ]
  },
  {
   "cell_type": "code",
   "execution_count": 8,
   "metadata": {},
   "outputs": [],
   "source": [
    "#print(dataset_ner['train'][0]['tokens'], dataset_ner['train'][0]['ner_tags'], sep=\"\\n\")"
   ]
  },
  {
   "cell_type": "code",
   "execution_count": 9,
   "metadata": {},
   "outputs": [],
   "source": [
    "# from utils import cast_ner_labels_to_int\n",
    "\n",
    "# casted = cast_ner_labels_to_int(dataset_ner['train'])"
   ]
  },
  {
   "cell_type": "code",
   "execution_count": 10,
   "metadata": {},
   "outputs": [],
   "source": [
    "# from baselines import TurboSimpleBaseline, SimpleBaselineEvalPipeline\n",
    "\n",
    "# baseline1 = TurboSimpleBaseline()\n",
    "# baseline1.fit(dataset_ner['train'])"
   ]
  },
  {
   "cell_type": "code",
   "execution_count": 11,
   "metadata": {},
   "outputs": [],
   "source": [
    "# tokens = dataset_ner['test'][0]['tokens']\n",
    "# prediction = [x['entity'] for x in baseline1.predict([\" \".join(tokens)])[0]]\n",
    "# target = dataset_ner['test'][0]['ner_tags']\n",
    "# print(\"TOKEN\", \"PREDICTION\", \"TARGET\", sep=\"\\t\")\n",
    "# for token, pred, targ in zip(tokens, prediction, target):\n",
    "#     print(token, pred, targ, sep=\"\\t\")"
   ]
  },
  {
   "cell_type": "code",
   "execution_count": 12,
   "metadata": {},
   "outputs": [],
   "source": [
    "# from evaluate import evaluator\n",
    "# from constants import TASK\n",
    "# task_evaluator = evaluator(TASK)"
   ]
  },
  {
   "cell_type": "code",
   "execution_count": 13,
   "metadata": {},
   "outputs": [],
   "source": [
    "# results = task_evaluator.compute(\n",
    "#     model_or_pipeline=EvalPipeline(baseline1),\n",
    "#     data=dataset_ner['test'],\n",
    "#     metric=\"seqeval\",\n",
    "# )"
   ]
  },
  {
   "cell_type": "code",
   "execution_count": 14,
   "metadata": {},
   "outputs": [],
   "source": [
    "# results"
   ]
  },
  {
   "cell_type": "code",
   "execution_count": 15,
   "metadata": {},
   "outputs": [],
   "source": [
    "# from utils import create_fasttext_model\n",
    "\n",
    "# create_fasttext_model(dataset_ner['train'], \"legal_eval.bin\")"
   ]
  },
  {
   "cell_type": "code",
   "execution_count": 47,
   "metadata": {},
   "outputs": [
    {
     "name": "stderr",
     "output_type": "stream",
     "text": [
      "Warning : `load_model` does not return WordVectorModel or SupervisedModel any more, but a `FastText` object which is very similar.\n",
      "Loading cached processed dataset at D:\\hf_datasets\\json\\default-5075b1c63c2a9678\\0.0.0\\fe5dd6ea2639a6df622901539cb550cf8797e5a6b2dd7af1cf934bed8e233e6e\\cache-01bc7eaebcd4c8cd.arrow\n"
     ]
    },
    {
     "data": {
      "application/vnd.jupyter.widget-view+json": {
       "model_id": "cae55ff10bd844b4b927e118a8d80766",
       "version_major": 2,
       "version_minor": 0
      },
      "text/plain": [
       "Map:   0%|          | 0/10995 [00:00<?, ? examples/s]"
      ]
     },
     "metadata": {},
     "output_type": "display_data"
    }
   ],
   "source": [
    "from baselines import MLBaseline, EvalPipeline\n",
    "import fasttext\n",
    "from sklearn.linear_model import LogisticRegression\n",
    "from xgboost import XGBClassifier\n",
    "MODEL_PATH = \"embeddings/legal_eval.bin\"\n",
    "model = fasttext.load_model(MODEL_PATH)\n",
    "ml_baseline = MLBaseline(model, XGBClassifier(), window_size=11)\n",
    "X, y = ml_baseline.prepare_dataset(dataset_ner['train'])"
   ]
  },
  {
   "attachments": {},
   "cell_type": "markdown",
   "metadata": {},
   "source": [
    "### Having this X calculate average cosine distances between entries? Maybe this would show something nice "
   ]
  },
  {
   "attachments": {},
   "cell_type": "markdown",
   "metadata": {},
   "source": [
    "There were some problems with empty embeddings as we have tokens like \"\" in the text -> use strip() MOREOVER DONT USE split(\" \") use just split()!!! Just use HF Tokenizer..."
   ]
  },
  {
   "cell_type": "code",
   "execution_count": 32,
   "metadata": {},
   "outputs": [
    {
     "data": {
      "application/vnd.jupyter.widget-view+json": {
       "model_id": "1689c81f21d740f0894ee4a489b484c2",
       "version_major": 2,
       "version_minor": 0
      },
      "text/plain": [
       "Casting the dataset:   0%|          | 0/10995 [00:00<?, ? examples/s]"
      ]
     },
     "metadata": {},
     "output_type": "display_data"
    },
    {
     "name": "stderr",
     "output_type": "stream",
     "text": [
      "Parameter 'fn_kwargs'={'embed_model': <fasttext.FastText._FastText object at 0x000001BA660AD6C0>, 'window_size': 1} of the transform datasets.arrow_dataset.Dataset._map_single couldn't be hashed properly, a random hash was used instead. Make sure your transforms and parameters are serializable with pickle or dill for the dataset fingerprinting and caching to work. If you reuse this transform, the caching mechanism will consider it to be different from the previous calls and recompute everything. This warning is only showed once. Subsequent hashing failures won't be showed.\n"
     ]
    },
    {
     "data": {
      "application/vnd.jupyter.widget-view+json": {
       "model_id": "727a9a9752cc45f3983a6d0a9a0d7bfa",
       "version_major": 2,
       "version_minor": 0
      },
      "text/plain": [
       "Map:   0%|          | 0/10995 [00:00<?, ? examples/s]"
      ]
     },
     "metadata": {},
     "output_type": "display_data"
    }
   ],
   "source": [
    "# import numpy as np\n",
    "\n",
    "# for window_size in [1,3,7,11]:\n",
    "#     ml_baseline = MLBaseline(model, XGBClassifier(), window_size=window_size)\n",
    "#     X, y = ml_baseline.prepare_dataset(dataset_ner['train'])\n",
    "#     #X, y = ml_baseline.downsample_other(X, y, n_o_selected = 10000)\n",
    "#     normalized_X = X / np.sqrt(np.sum(X**2, axis=1, keepdims=True))\n",
    "#     break"
   ]
  },
  {
   "cell_type": "code",
   "execution_count": 48,
   "metadata": {},
   "outputs": [],
   "source": [
    "ml_baseline.fit(X, y, n_o_selected=10000)"
   ]
  },
  {
   "cell_type": "code",
   "execution_count": 42,
   "metadata": {},
   "outputs": [
    {
     "name": "stdout",
     "output_type": "stream",
     "text": [
      "TOKEN\tPREDICTION\tTARGET\n",
      "True,\tO\tO\n",
      "our\tO\tO\n",
      "Constitution\tO\tB-STATUTE\n",
      "has\tO\tO\n",
      "no\tO\tO\n",
      "'due\tO\tO\n",
      "process'\tI-PROVISION\tO\n",
      "clause\tI-PROVISION\tO\n",
      "or\tO\tO\n",
      "the\tO\tO\n",
      "VIII\tO\tO\n",
      "Amendment;\tO\tO\n",
      "but,\tO\tO\n",
      "in\tO\tO\n",
      "this\tO\tO\n",
      "branch\tO\tO\n",
      "of\tO\tO\n",
      "law,\tI-PRECEDENT\tO\n",
      "after\tI-PRECEDENT\tO\n",
      "R.C.\tI-PRECEDENT\tB-PRECEDENT\n",
      "Cooper\tI-PRECEDENT\tI-PRECEDENT\n",
      "v.\tI-PRECEDENT\tI-PRECEDENT\n",
      "Union\tI-PRECEDENT\tI-PRECEDENT\n",
      "of\tI-PRECEDENT\tI-PRECEDENT\n",
      "India,\tI-PRECEDENT\tI-PRECEDENT\n",
      "(1970)\tI-PRECEDENT\tI-PRECEDENT\n",
      "1\tI-PRECEDENT\tI-PRECEDENT\n",
      "SCC\tI-PRECEDENT\tI-PRECEDENT\n",
      "248\tI-PRECEDENT\tI-PRECEDENT\n",
      "and\tI-PRECEDENT\tO\n",
      "Maneka\tI-PRECEDENT\tB-PRECEDENT\n",
      "Gandhi\tI-PRECEDENT\tI-PRECEDENT\n",
      "v.\tI-PRECEDENT\tI-PRECEDENT\n",
      "Union\tI-PRECEDENT\tI-PRECEDENT\n",
      "of\tI-PRECEDENT\tI-PRECEDENT\n",
      "India,\tI-PRECEDENT\tI-PRECEDENT\n",
      "(1978)\tI-PRECEDENT\tI-PRECEDENT\n",
      "1\tI-PRECEDENT\tI-PRECEDENT\n",
      "SCC\tO\tI-PRECEDENT\n",
      "248,\tO\tI-PRECEDENT\n",
      "the\tO\tO\n",
      "consequence\tO\tO\n",
      "is\tO\tO\n",
      "the\tO\tO\n",
      "same.\tO\tO\n"
     ]
    }
   ],
   "source": [
    "tokens = dataset_ner['test'][0]['tokens']\n",
    "prediction = [x['entity'] for x in ml_baseline.predict([\" \".join(tokens)])[0]]\n",
    "target = dataset_ner['test'][0]['ner_tags']\n",
    "print(\"TOKEN\", \"PREDICTION\", \"TARGET\", sep=\"\\t\")\n",
    "for token, pred, targ in zip(tokens, prediction, target):\n",
    "    print(token, pred, targ, sep=\"\\t\")"
   ]
  },
  {
   "cell_type": "code",
   "execution_count": 45,
   "metadata": {},
   "outputs": [
    {
     "data": {
      "application/vnd.jupyter.widget-view+json": {
       "model_id": "e34153875a1a4bfcb50f8fb56c033ec4",
       "version_major": 2,
       "version_minor": 0
      },
      "text/plain": [
       "Map:   0%|          | 0/1074 [00:00<?, ? examples/s]"
      ]
     },
     "metadata": {},
     "output_type": "display_data"
    }
   ],
   "source": [
    "from evaluate import evaluator\n",
    "from constants import TASK\n",
    "task_evaluator = evaluator(TASK)\n",
    "results = task_evaluator.compute(\n",
    "    model_or_pipeline=EvalPipeline(ml_baseline),\n",
    "    data=dataset_ner['test'],\n",
    "    metric=\"seqeval\",\n",
    ")"
   ]
  },
  {
   "cell_type": "code",
   "execution_count": 46,
   "metadata": {},
   "outputs": [
    {
     "data": {
      "text/plain": [
       "{'CASE_NUMBER': {'precision': 0.005277044854881266,\n",
       "  'recall': 0.01680672268907563,\n",
       "  'f1': 0.008032128514056224,\n",
       "  'number': 119},\n",
       " 'COURT': {'precision': 0.004163197335553705,\n",
       "  'recall': 0.016891891891891893,\n",
       "  'f1': 0.006680026720106881,\n",
       "  'number': 296},\n",
       " 'DATE': {'precision': 0.050872093023255814,\n",
       "  'recall': 0.32558139534883723,\n",
       "  'f1': 0.08799497171590197,\n",
       "  'number': 215},\n",
       " 'GPE': {'precision': 0.05017921146953405,\n",
       "  'recall': 0.0915032679738562,\n",
       "  'f1': 0.06481481481481483,\n",
       "  'number': 153},\n",
       " 'JUDGE': {'precision': 0.02631578947368421,\n",
       "  'recall': 0.09411764705882353,\n",
       "  'f1': 0.04113110539845758,\n",
       "  'number': 170},\n",
       " 'LAWYER': {'precision': 0.00794912559618442,\n",
       "  'recall': 0.00992063492063492,\n",
       "  'f1': 0.0088261253309797,\n",
       "  'number': 504},\n",
       " 'ORG': {'precision': 0.0, 'recall': 0.0, 'f1': 0.0, 'number': 158},\n",
       " 'OTHER_PERSON': {'precision': 0.028913963328631876,\n",
       "  'recall': 0.155893536121673,\n",
       "  'f1': 0.04878048780487805,\n",
       "  'number': 263},\n",
       " 'PETITIONER': {'precision': 0.01405152224824356,\n",
       "  'recall': 0.05825242718446602,\n",
       "  'f1': 0.022641509433962263,\n",
       "  'number': 206},\n",
       " 'PRECEDENT': {'precision': 0.006622516556291391,\n",
       "  'recall': 0.01694915254237288,\n",
       "  'f1': 0.009523809523809525,\n",
       "  'number': 177},\n",
       " 'PROVISION': {'precision': 0.008645533141210375,\n",
       "  'recall': 0.0234375,\n",
       "  'f1': 0.012631578947368423,\n",
       "  'number': 256},\n",
       " 'RESPONDENT': {'precision': 0.0019193857965451055,\n",
       "  'recall': 0.003257328990228013,\n",
       "  'f1': 0.0024154589371980675,\n",
       "  'number': 307},\n",
       " 'STATUTE': {'precision': 0.010582010582010581,\n",
       "  'recall': 0.0196078431372549,\n",
       "  'f1': 0.013745704467353952,\n",
       "  'number': 204},\n",
       " 'WITNESS': {'precision': 0.02185792349726776,\n",
       "  'recall': 0.07407407407407407,\n",
       "  'f1': 0.03375527426160337,\n",
       "  'number': 54},\n",
       " 'overall_precision': 0.019833098515227052,\n",
       " 'overall_recall': 0.05937702790395847,\n",
       " 'overall_f1': 0.029734340726297832,\n",
       " 'overall_accuracy': 0.5501372387955041,\n",
       " 'total_time_in_seconds': 1.4874126999984583,\n",
       " 'samples_per_second': 722.0591837094797,\n",
       " 'latency_in_seconds': 0.001384928026069328}"
      ]
     },
     "execution_count": 46,
     "metadata": {},
     "output_type": "execute_result"
    }
   ],
   "source": [
    "results"
   ]
  },
  {
   "cell_type": "code",
   "execution_count": 35,
   "metadata": {},
   "outputs": [
    {
     "name": "stderr",
     "output_type": "stream",
     "text": [
      "Loading cached processed dataset at D:\\hf_datasets\\json\\default-5075b1c63c2a9678\\0.0.0\\fe5dd6ea2639a6df622901539cb550cf8797e5a6b2dd7af1cf934bed8e233e6e\\cache-ad21ca1b2f5272a4.arrow\n"
     ]
    }
   ],
   "source": [
    "import matplotlib.pyplot as plt\n",
    "import numpy as np\n",
    "from utils import cast_ner_labels_to_int\n",
    "\n",
    "casted = cast_ner_labels_to_int(dataset_ner['train'])"
   ]
  },
  {
   "cell_type": "code",
   "execution_count": 63,
   "metadata": {},
   "outputs": [
    {
     "data": {
      "text/plain": [
       "<BarContainer object of 29 artists>"
      ]
     },
     "execution_count": 63,
     "metadata": {},
     "output_type": "execute_result"
    },
    {
     "data": {
      "image/png": "[encoded data removed]",
      "text/plain": [
       "<Figure size 2000x500 with 1 Axes>"
      ]
     },
     "metadata": {},
     "output_type": "display_data"
    }
   ],
   "source": [
    "from pylab import rcParams\n",
    "rcParams['figure.figsize'] = 20, 5\n",
    "\n",
    "class_labels = casted.features['ner_tags'].feature\n",
    "classes, counts = np.unique(y, return_counts=True)\n",
    "\n",
    "plt.bar(class_labels.int2str(classes), counts)"
   ]
  }
 ],
 "metadata": {
  "kernelspec": {
   "display_name": "base",
   "language": "python",
   "name": "python3"
  },
  "language_info": {
   "codemirror_mode": {
    "name": "ipython",
    "version": 3
   },
   "file_extension": ".py",
   "mimetype": "text/x-python",
   "name": "python",
   "nbconvert_exporter": "python",
   "pygments_lexer": "ipython3",
   "version": "3.10.10"
  },
  "orig_nbformat": 4
 },
 "nbformat": 4,
 "nbformat_minor": 2
}
