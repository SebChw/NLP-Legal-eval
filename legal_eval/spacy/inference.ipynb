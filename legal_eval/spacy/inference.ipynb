{
 "cells": [
  {
   "cell_type": "code",
   "execution_count": 3,
   "metadata": {},
   "outputs": [],
   "source": [
    "import spacy\n",
    "\n",
    "nlp = spacy.load('output/model-best')"
   ]
  },
  {
   "cell_type": "code",
   "execution_count": 4,
   "metadata": {},
   "outputs": [
    {
     "name": "stderr",
     "output_type": "stream",
     "text": [
      "Found cached dataset json (C:/Users/Dell/.cache/huggingface/datasets/json/default-aef40b4b132ab43c/0.0.0/fe5dd6ea2639a6df622901539cb550cf8797e5a6b2dd7af1cf934bed8e233e6e)\n"
     ]
    },
    {
     "data": {
      "application/vnd.jupyter.widget-view+json": {
       "model_id": "ea660333613e47c28af1dd18a73d64da",
       "version_major": 2,
       "version_minor": 0
      },
      "text/plain": [
       "  0%|          | 0/1 [00:00<?, ?it/s]"
      ]
     },
     "metadata": {},
     "output_type": "display_data"
    },
    {
     "name": "stderr",
     "output_type": "stream",
     "text": [
      "Found cached dataset json (C:/Users/Dell/.cache/huggingface/datasets/json/default-f4584a93bbbd7e8a/0.0.0/fe5dd6ea2639a6df622901539cb550cf8797e5a6b2dd7af1cf934bed8e233e6e)\n"
     ]
    },
    {
     "data": {
      "application/vnd.jupyter.widget-view+json": {
       "model_id": "af0e35c624bd4ebe9a707791ee4f1bf0",
       "version_major": 2,
       "version_minor": 0
      },
      "text/plain": [
       "  0%|          | 0/1 [00:00<?, ?it/s]"
      ]
     },
     "metadata": {},
     "output_type": "display_data"
    },
    {
     "name": "stderr",
     "output_type": "stream",
     "text": [
      "Loading cached processed dataset at C:\\Users\\Dell\\.cache\\huggingface\\datasets\\json\\default-aef40b4b132ab43c\\0.0.0\\fe5dd6ea2639a6df622901539cb550cf8797e5a6b2dd7af1cf934bed8e233e6e\\cache-bd9e74115e31da9a.arrow\n",
      "Loading cached processed dataset at C:\\Users\\Dell\\.cache\\huggingface\\datasets\\json\\default-f4584a93bbbd7e8a\\0.0.0\\fe5dd6ea2639a6df622901539cb550cf8797e5a6b2dd7af1cf934bed8e233e6e\\cache-31308b93ec420624.arrow\n",
      "Found cached dataset json (C:/Users/Dell/.cache/huggingface/datasets/json/default-aef40b4b132ab43c/0.0.0/fe5dd6ea2639a6df622901539cb550cf8797e5a6b2dd7af1cf934bed8e233e6e)\n"
     ]
    },
    {
     "data": {
      "application/vnd.jupyter.widget-view+json": {
       "model_id": "58bbf7ee9b6c48d8bbd6741e66b0a467",
       "version_major": 2,
       "version_minor": 0
      },
      "text/plain": [
       "  0%|          | 0/1 [00:00<?, ?it/s]"
      ]
     },
     "metadata": {},
     "output_type": "display_data"
    },
    {
     "name": "stderr",
     "output_type": "stream",
     "text": [
      "Found cached dataset json (C:/Users/Dell/.cache/huggingface/datasets/json/default-f4584a93bbbd7e8a/0.0.0/fe5dd6ea2639a6df622901539cb550cf8797e5a6b2dd7af1cf934bed8e233e6e)\n"
     ]
    },
    {
     "data": {
      "application/vnd.jupyter.widget-view+json": {
       "model_id": "e0b80b24bdc64914b8b6f2aa9207db07",
       "version_major": 2,
       "version_minor": 0
      },
      "text/plain": [
       "  0%|          | 0/1 [00:00<?, ?it/s]"
      ]
     },
     "metadata": {},
     "output_type": "display_data"
    },
    {
     "name": "stderr",
     "output_type": "stream",
     "text": [
      "Loading cached processed dataset at C:\\Users\\Dell\\.cache\\huggingface\\datasets\\json\\default-aef40b4b132ab43c\\0.0.0\\fe5dd6ea2639a6df622901539cb550cf8797e5a6b2dd7af1cf934bed8e233e6e\\cache-bd9e74115e31da9a.arrow\n",
      "Loading cached processed dataset at C:\\Users\\Dell\\.cache\\huggingface\\datasets\\json\\default-f4584a93bbbd7e8a\\0.0.0\\fe5dd6ea2639a6df622901539cb550cf8797e5a6b2dd7af1cf934bed8e233e6e\\cache-31308b93ec420624.arrow\n",
      "Found cached dataset json (C:/Users/Dell/.cache/huggingface/datasets/json/default-aef40b4b132ab43c/0.0.0/fe5dd6ea2639a6df622901539cb550cf8797e5a6b2dd7af1cf934bed8e233e6e)\n"
     ]
    },
    {
     "data": {
      "application/vnd.jupyter.widget-view+json": {
       "model_id": "6b6016bf6fe6491392674333b429b0ac",
       "version_major": 2,
       "version_minor": 0
      },
      "text/plain": [
       "  0%|          | 0/1 [00:00<?, ?it/s]"
      ]
     },
     "metadata": {},
     "output_type": "display_data"
    },
    {
     "name": "stderr",
     "output_type": "stream",
     "text": [
      "Found cached dataset json (C:/Users/Dell/.cache/huggingface/datasets/json/default-f4584a93bbbd7e8a/0.0.0/fe5dd6ea2639a6df622901539cb550cf8797e5a6b2dd7af1cf934bed8e233e6e)\n"
     ]
    },
    {
     "data": {
      "application/vnd.jupyter.widget-view+json": {
       "model_id": "c3565d4d109a4fec8314ef64eef22d3a",
       "version_major": 2,
       "version_minor": 0
      },
      "text/plain": [
       "  0%|          | 0/1 [00:00<?, ?it/s]"
      ]
     },
     "metadata": {},
     "output_type": "display_data"
    },
    {
     "name": "stderr",
     "output_type": "stream",
     "text": [
      "Loading cached processed dataset at C:\\Users\\Dell\\.cache\\huggingface\\datasets\\json\\default-aef40b4b132ab43c\\0.0.0\\fe5dd6ea2639a6df622901539cb550cf8797e5a6b2dd7af1cf934bed8e233e6e\\cache-bd9e74115e31da9a.arrow\n",
      "Loading cached processed dataset at C:\\Users\\Dell\\.cache\\huggingface\\datasets\\json\\default-f4584a93bbbd7e8a\\0.0.0\\fe5dd6ea2639a6df622901539cb550cf8797e5a6b2dd7af1cf934bed8e233e6e\\cache-31308b93ec420624.arrow\n"
     ]
    },
    {
     "data": {
      "text/plain": [
       "(\"True, our Constitution has no 'due process' clause or the VIII Amendment; but, in this branch of law, after R.C. Cooper v. Union of India, (1970) 1 SCC 248 and Maneka Gandhi v. Union of India, (1978) 1 SCC 248, the consequence is the same.\",\n",
       " {'entities': [(10, 22, 'STATUTE'),\n",
       "   (108, 155, 'PRECEDENT'),\n",
       "   (160, 209, 'PRECEDENT')]})"
      ]
     },
     "execution_count": 4,
     "metadata": {},
     "output_type": "execute_result"
    }
   ],
   "source": [
    "from legal_eval.spacy.data import get_spacy_train_test_set\n",
    "TRAIN_DATA, TEST_DATA = get_spacy_train_test_set()\n",
    "\n",
    "TEST_DATA[0]"
   ]
  },
  {
   "cell_type": "code",
   "execution_count": 23,
   "metadata": {},
   "outputs": [
    {
     "name": "stdout",
     "output_type": "stream",
     "text": [
      "The next contention revolves around the role of the AICTE and the decision of the Supreme Court in Bharathidasan University.\n",
      "{'entities': [(52, 57, 'ORG'), (82, 95, 'COURT'), (99, 123, 'ORG')]}\n",
      "\n",
      "Coming back to Jagrutiben, she was not an eye­witness, admittedly, and has no personal knowledge and it is apparent from the report she has stated that the deceased left the house for a morning walk at around 0645 hours/0700 hours.\n",
      "{'entities': [(15, 25, 'OTHER_PERSON')]}\n",
      "\n",
      "However, when their accounts became a Non Performing Assets as on 30.05.2016, the bank initiated action under SARFAESI Act 2002 and issued a notice dated 17.12.2016 under Section 13(2) of the SARFAESI Act 2002, calling upon the petitioners to pay a sum of Rs.240,03,62,830.86.\n",
      "{'entities': [(66, 76, 'DATE'), (110, 127, 'STATUTE'), (154, 164, 'DATE'), (171, 184, 'PROVISION'), (192, 209, 'STATUTE')]}\n",
      "\n",
      "The contention of Mr. Datta, therefore, has been that learned Judges of this Court have uniformly held, upon duly reading the said order, that the retired employees are entitled to pension from the date of refund and there being no valid reason for taking a different view, there is no need for clarification of the said order; accordingly, G.A. No. 464 of 2018 merits outright dismissal.\n",
      "{'entities': [(22, 27, 'OTHER_PERSON'), (341, 361, 'CASE_NUMBER')]}\n",
      "\n"
     ]
    }
   ],
   "source": [
    "import random \n",
    "random.seed(9874)\n",
    "\n",
    "ten_random_idx = random.sample(range(len(TEST_DATA)), 4)\n",
    "for idx in ten_random_idx:\n",
    "    print(TEST_DATA[idx][0])\n",
    "    print(TEST_DATA[idx][1])\n",
    "    print(\"\")"
   ]
  },
  {
   "cell_type": "code",
   "execution_count": 25,
   "metadata": {},
   "outputs": [
    {
     "name": "stdout",
     "output_type": "stream",
     "text": [
      "ORG: AICTE\n",
      "COURT: Supreme Court\n",
      "ORG: Bharathidasan University\n",
      "\n",
      "OTHER_PERSON: Jagrutiben\n",
      "\n",
      "DATE: 30.05.2016\n",
      "STATUTE: SARFAESI Act 2002\n",
      "DATE: 17.12.2016\n",
      "PROVISION: Section 13(2)\n",
      "STATUTE: SARFAESI Act 2002\n",
      "\n",
      "OTHER_PERSON: Datta\n",
      "CASE_NUMBER: G.A. No. 464 of 2018\n",
      "\n"
     ]
    }
   ],
   "source": [
    "#print entities in test data\n",
    "for random_idx in ten_random_idx:    \n",
    "    for entity in TEST_DATA[random_idx][1]['entities']:\n",
    "            print(f\"{entity[2]}: {TEST_DATA[random_idx][0][entity[0]:entity[1]]}\")\n",
    "    print(\"\")"
   ]
  },
  {
   "cell_type": "code",
   "execution_count": 26,
   "metadata": {},
   "outputs": [
    {
     "data": {
      "text/html": [
       "<span class=\"tex2jax_ignore\"><div class=\"entities\" style=\"line-height: 2.5; direction: ltr\">The next contention revolves around the role of the \n",
       "<mark class=\"entity\" style=\"background: #7aecec; padding: 0.45em 0.6em; margin: 0 0.25em; line-height: 1; border-radius: 0.35em;\">\n",
       "    AICTE\n",
       "    <span style=\"font-size: 0.8em; font-weight: bold; line-height: 1; border-radius: 0.35em; vertical-align: middle; margin-left: 0.5rem\">ORG</span>\n",
       "</mark>\n",
       " and the decision of the \n",
       "<mark class=\"entity\" style=\"background: #ddd; padding: 0.45em 0.6em; margin: 0 0.25em; line-height: 1; border-radius: 0.35em;\">\n",
       "    Supreme Court\n",
       "    <span style=\"font-size: 0.8em; font-weight: bold; line-height: 1; border-radius: 0.35em; vertical-align: middle; margin-left: 0.5rem\">COURT</span>\n",
       "</mark>\n",
       " in \n",
       "<mark class=\"entity\" style=\"background: #7aecec; padding: 0.45em 0.6em; margin: 0 0.25em; line-height: 1; border-radius: 0.35em;\">\n",
       "    Bharathidasan University\n",
       "    <span style=\"font-size: 0.8em; font-weight: bold; line-height: 1; border-radius: 0.35em; vertical-align: middle; margin-left: 0.5rem\">ORG</span>\n",
       "</mark>\n",
       ".</div></span>"
      ],
      "text/plain": [
       "<IPython.core.display.HTML object>"
      ]
     },
     "metadata": {},
     "output_type": "display_data"
    },
    {
     "data": {
      "text/html": [
       "<span class=\"tex2jax_ignore\"><div class=\"entities\" style=\"line-height: 2.5; direction: ltr\">Coming back to \n",
       "<mark class=\"entity\" style=\"background: #ddd; padding: 0.45em 0.6em; margin: 0 0.25em; line-height: 1; border-radius: 0.35em;\">\n",
       "    Jagrutiben\n",
       "    <span style=\"font-size: 0.8em; font-weight: bold; line-height: 1; border-radius: 0.35em; vertical-align: middle; margin-left: 0.5rem\">OTHER_PERSON</span>\n",
       "</mark>\n",
       ", she was not an eye­witness, admittedly, and has no personal knowledge and it is apparent from the report she has stated that the deceased left the house for a morning walk at around 0645 hours/0700 hours.</div></span>"
      ],
      "text/plain": [
       "<IPython.core.display.HTML object>"
      ]
     },
     "metadata": {},
     "output_type": "display_data"
    },
    {
     "data": {
      "text/html": [
       "<span class=\"tex2jax_ignore\"><div class=\"entities\" style=\"line-height: 2.5; direction: ltr\">However, when their accounts became a Non Performing Assets as on \n",
       "<mark class=\"entity\" style=\"background: #bfe1d9; padding: 0.45em 0.6em; margin: 0 0.25em; line-height: 1; border-radius: 0.35em;\">\n",
       "    30.05.2016\n",
       "    <span style=\"font-size: 0.8em; font-weight: bold; line-height: 1; border-radius: 0.35em; vertical-align: middle; margin-left: 0.5rem\">DATE</span>\n",
       "</mark>\n",
       ", the bank initiated action under \n",
       "<mark class=\"entity\" style=\"background: #ddd; padding: 0.45em 0.6em; margin: 0 0.25em; line-height: 1; border-radius: 0.35em;\">\n",
       "    SARFAESI Act 2002\n",
       "    <span style=\"font-size: 0.8em; font-weight: bold; line-height: 1; border-radius: 0.35em; vertical-align: middle; margin-left: 0.5rem\">STATUTE</span>\n",
       "</mark>\n",
       " and issued a notice dated \n",
       "<mark class=\"entity\" style=\"background: #bfe1d9; padding: 0.45em 0.6em; margin: 0 0.25em; line-height: 1; border-radius: 0.35em;\">\n",
       "    17.12.2016\n",
       "    <span style=\"font-size: 0.8em; font-weight: bold; line-height: 1; border-radius: 0.35em; vertical-align: middle; margin-left: 0.5rem\">DATE</span>\n",
       "</mark>\n",
       " under \n",
       "<mark class=\"entity\" style=\"background: #ddd; padding: 0.45em 0.6em; margin: 0 0.25em; line-height: 1; border-radius: 0.35em;\">\n",
       "    Section 13(2)\n",
       "    <span style=\"font-size: 0.8em; font-weight: bold; line-height: 1; border-radius: 0.35em; vertical-align: middle; margin-left: 0.5rem\">PROVISION</span>\n",
       "</mark>\n",
       " of the \n",
       "<mark class=\"entity\" style=\"background: #ddd; padding: 0.45em 0.6em; margin: 0 0.25em; line-height: 1; border-radius: 0.35em;\">\n",
       "    SARFAESI Act 2002\n",
       "    <span style=\"font-size: 0.8em; font-weight: bold; line-height: 1; border-radius: 0.35em; vertical-align: middle; margin-left: 0.5rem\">STATUTE</span>\n",
       "</mark>\n",
       ", calling upon the petitioners to pay a sum of Rs.240,03,62,830.86.</div></span>"
      ],
      "text/plain": [
       "<IPython.core.display.HTML object>"
      ]
     },
     "metadata": {},
     "output_type": "display_data"
    },
    {
     "data": {
      "text/html": [
       "<span class=\"tex2jax_ignore\"><div class=\"entities\" style=\"line-height: 2.5; direction: ltr\">The contention of Mr. \n",
       "<mark class=\"entity\" style=\"background: #ddd; padding: 0.45em 0.6em; margin: 0 0.25em; line-height: 1; border-radius: 0.35em;\">\n",
       "    Datta\n",
       "    <span style=\"font-size: 0.8em; font-weight: bold; line-height: 1; border-radius: 0.35em; vertical-align: middle; margin-left: 0.5rem\">OTHER_PERSON</span>\n",
       "</mark>\n",
       ", therefore, has been that learned Judges of this Court have uniformly held, upon duly reading the said order, that the retired employees are entitled to pension from the date of refund and there being no valid reason for taking a different view, there is no need for clarification of the said order; accordingly, \n",
       "<mark class=\"entity\" style=\"background: #ddd; padding: 0.45em 0.6em; margin: 0 0.25em; line-height: 1; border-radius: 0.35em;\">\n",
       "    G.A. No. 464 of 2018\n",
       "    <span style=\"font-size: 0.8em; font-weight: bold; line-height: 1; border-radius: 0.35em; vertical-align: middle; margin-left: 0.5rem\">CASE_NUMBER</span>\n",
       "</mark>\n",
       " merits outright dismissal.</div></span>"
      ],
      "text/plain": [
       "<IPython.core.display.HTML object>"
      ]
     },
     "metadata": {},
     "output_type": "display_data"
    }
   ],
   "source": [
    "from spacy import displacy\n",
    "\n",
    "for random_idx in ten_random_idx:\n",
    "    doc = nlp(TEST_DATA[random_idx][0])\n",
    "    displacy.render(doc, style=\"ent\", jupyter=True)"
   ]
  },
  {
   "cell_type": "code",
   "execution_count": null,
   "metadata": {},
   "outputs": [],
   "source": []
  }
 ],
 "metadata": {
  "kernelspec": {
   "display_name": "Python 3",
   "language": "python",
   "name": "python3"
  },
  "language_info": {
   "codemirror_mode": {
    "name": "ipython",
    "version": 3
   },
   "file_extension": ".py",
   "mimetype": "text/x-python",
   "name": "python",
   "nbconvert_exporter": "python",
   "pygments_lexer": "ipython3",
   "version": "3.10.10"
  },
  "orig_nbformat": 4
 },
 "nbformat": 4,
 "nbformat_minor": 2
}
