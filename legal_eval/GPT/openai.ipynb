{
 "cells": [
  {
   "cell_type": "code",
   "execution_count": 31,
   "metadata": {},
   "outputs": [],
   "source": [
    "import openai\n",
    "import os\n",
    "openai.api_key = os.genenv(\"OPENAI_API_TOKEN\")\n",
    "\n",
    "MODEL = \"gpt-3.5-turbo\"\n",
    "\n",
    "\n",
    "def get_completion(promt, model=MODEL):\n",
    "    response = openai.ChatCompletion.create(\n",
    "        model=model,\n",
    "        messages=[\n",
    "            {\"role\": \"system\", \"content\": \"You are a NER model. You are given a text and you have to find the entities in it.\"},\n",
    "            {\"role\": \"user\", \"content\": promt}\n",
    "        ],\n",
    "        temperature=0,\n",
    "    )\n",
    "\n",
    "    return response.choices[0]['message']['content']"
   ]
  },
  {
   "cell_type": "code",
   "execution_count": 32,
   "metadata": {},
   "outputs": [],
   "source": [
    "LABELS = [\"COURT\",  \"PETITIONER\", \"RESPONDENT\", \"JUDGE\", \"LAWYER\", \"DATE\", \"ORG\", \"GPE\", \"STATUTE\", \"PROVISION\", \"PRECEDENT\", \"CASE_NUMBER\", \"WITNESS\", \"OTHER_PERSON\"]"
   ]
  },
  {
   "cell_type": "code",
   "execution_count": 36,
   "metadata": {},
   "outputs": [],
   "source": [
    "import json\n",
    "\n",
    "with open(\"../../data/NER_TRAIN_JUDGEMENT.json\", 'r') as f:\n",
    "  train_data = json.load(f)\n",
    "\n",
    "with open(\"../../data/NER_DEV/NER_DEV_JUDGEMENT.json\", 'r') as f:\n",
    "  valid_data = json.load(f)"
   ]
  },
  {
   "cell_type": "code",
   "execution_count": 37,
   "metadata": {},
   "outputs": [
    {
     "data": {
      "text/html": [
       "<div>\n",
       "<style scoped>\n",
       "    .dataframe tbody tr th:only-of-type {\n",
       "        vertical-align: middle;\n",
       "    }\n",
       "\n",
       "    .dataframe tbody tr th {\n",
       "        vertical-align: top;\n",
       "    }\n",
       "\n",
       "    .dataframe thead th {\n",
       "        text-align: right;\n",
       "    }\n",
       "</style>\n",
       "<table border=\"1\" class=\"dataframe\">\n",
       "  <thead>\n",
       "    <tr style=\"text-align: right;\">\n",
       "      <th></th>\n",
       "      <th>annotations</th>\n",
       "      <th>data</th>\n",
       "      <th>meta</th>\n",
       "    </tr>\n",
       "    <tr>\n",
       "      <th>id</th>\n",
       "      <th></th>\n",
       "      <th></th>\n",
       "      <th></th>\n",
       "    </tr>\n",
       "  </thead>\n",
       "  <tbody>\n",
       "    <tr>\n",
       "      <th>90d9a97c7b7749ec8a4f460fda6f937e</th>\n",
       "      <td>[{'result': [{'value': {'start': 90, 'end': 10...</td>\n",
       "      <td>{'text': '\n",
       "\n",
       "(7) On specific query by the Bench...</td>\n",
       "      <td>{'source': 'tax_districtcourts judgement https...</td>\n",
       "    </tr>\n",
       "    <tr>\n",
       "      <th>a325c57ba5b84c6fa46bee65e6616633</th>\n",
       "      <td>[{'result': [{'value': {'start': 26, 'end': 30...</td>\n",
       "      <td>{'text': 'He was also asked whether Agya &lt;span...</td>\n",
       "      <td>{'source': 'criminal_punjab-haryana_high_court...</td>\n",
       "    </tr>\n",
       "    <tr>\n",
       "      <th>33cface31108441080976035ee04d07e</th>\n",
       "      <td>[{'result': [{'value': {'start': 13, 'end': 25...</td>\n",
       "      <td>{'text': ' \n",
       "5.2 CW3 Mr Vijay Mishra , Deputy M...</td>\n",
       "      <td>{'source': 'financial_districtcourts judgement...</td>\n",
       "    </tr>\n",
       "    <tr>\n",
       "      <th>08debe900b51464e9f26b5d1eecae170</th>\n",
       "      <td>[{'result': []}]</td>\n",
       "      <td>{'text': 'You are hereby asked not to carry ou...</td>\n",
       "      <td>{'source': 'civil_bombay_high_court judgement ...</td>\n",
       "    </tr>\n",
       "    <tr>\n",
       "      <th>428070222cd940eba78b233829eb28b8</th>\n",
       "      <td>[{'result': [{'value': {'start': 18, 'end': 43...</td>\n",
       "      <td>{'text': 'The pillion rider T.V. Satyanarayana...</td>\n",
       "      <td>{'source': 'motorvehicles_andhra_high_court ju...</td>\n",
       "    </tr>\n",
       "  </tbody>\n",
       "</table>\n",
       "</div>"
      ],
      "text/plain": [
       "                                                                        annotations  \\\n",
       "id                                                                                    \n",
       "90d9a97c7b7749ec8a4f460fda6f937e  [{'result': [{'value': {'start': 90, 'end': 10...   \n",
       "a325c57ba5b84c6fa46bee65e6616633  [{'result': [{'value': {'start': 26, 'end': 30...   \n",
       "33cface31108441080976035ee04d07e  [{'result': [{'value': {'start': 13, 'end': 25...   \n",
       "08debe900b51464e9f26b5d1eecae170                                   [{'result': []}]   \n",
       "428070222cd940eba78b233829eb28b8  [{'result': [{'value': {'start': 18, 'end': 43...   \n",
       "\n",
       "                                                                               data  \\\n",
       "id                                                                                    \n",
       "90d9a97c7b7749ec8a4f460fda6f937e  {'text': '\n",
       "\n",
       "(7) On specific query by the Bench...   \n",
       "a325c57ba5b84c6fa46bee65e6616633  {'text': 'He was also asked whether Agya <span...   \n",
       "33cface31108441080976035ee04d07e  {'text': ' \n",
       "5.2 CW3 Mr Vijay Mishra , Deputy M...   \n",
       "08debe900b51464e9f26b5d1eecae170  {'text': 'You are hereby asked not to carry ou...   \n",
       "428070222cd940eba78b233829eb28b8  {'text': 'The pillion rider T.V. Satyanarayana...   \n",
       "\n",
       "                                                                               meta  \n",
       "id                                                                                   \n",
       "90d9a97c7b7749ec8a4f460fda6f937e  {'source': 'tax_districtcourts judgement https...  \n",
       "a325c57ba5b84c6fa46bee65e6616633  {'source': 'criminal_punjab-haryana_high_court...  \n",
       "33cface31108441080976035ee04d07e  {'source': 'financial_districtcourts judgement...  \n",
       "08debe900b51464e9f26b5d1eecae170  {'source': 'civil_bombay_high_court judgement ...  \n",
       "428070222cd940eba78b233829eb28b8  {'source': 'motorvehicles_andhra_high_court ju...  "
      ]
     },
     "execution_count": 37,
     "metadata": {},
     "output_type": "execute_result"
    }
   ],
   "source": [
    "import pandas as pd\n",
    "\n",
    "df = pd.DataFrame(train_data).set_index(\"id\")\n",
    "df.head()"
   ]
  },
  {
   "cell_type": "code",
   "execution_count": 39,
   "metadata": {},
   "outputs": [
    {
     "name": "stdout",
     "output_type": "stream",
     "text": [
      "On the night of 28 March, 1959, Krishnamurthi Rao, according to his story, walked into the room of the petitioner, gave the bribe and made the pre-arranged signal which brought the Assistant Superintendent of Police and his companions to the room.\n",
      "{'start': 16, 'end': 30, 'text': '28 March, 1959', 'labels': ['DATE']}\n",
      "{'start': 32, 'end': 49, 'text': 'Krishnamurthi Rao', 'labels': ['OTHER_PERSON']}\n",
      "\n",
      "A contention similar to the one now raised by Mr. Dasgupta was also raised before the Supreme Court.\n",
      "{'start': 50, 'end': 58, 'text': 'Dasgupta', 'labels': ['OTHER_PERSON']}\n",
      "{'start': 86, 'end': 99, 'text': 'Supreme Court', 'labels': ['COURT']}\n",
      "\n",
      "Dy.Registrar was competent to pass winding up order as powers were delegated to him vide notification dated 18.10.77 issued by Delhi Administration, Delhi.\n",
      "{'start': 108, 'end': 116, 'text': '18.10.77', 'labels': ['DATE']}\n",
      "{'start': 127, 'end': 147, 'text': 'Delhi Administration', 'labels': ['ORG']}\n",
      "{'start': 149, 'end': 154, 'text': 'Delhi', 'labels': ['GPE']}\n",
      "\n"
     ]
    }
   ],
   "source": [
    "for i in [10,25,61]:\n",
    "    print(df['data'][i]['text'])\n",
    "    for j in range(len(df['annotations'][i][0]['result'])):\n",
    "        print(df['annotations'][i][0]['result'][j]['value'])\n",
    "    print()"
   ]
  },
  {
   "cell_type": "code",
   "execution_count": 33,
   "metadata": {},
   "outputs": [
    {
     "name": "stdout",
     "output_type": "stream",
     "text": [
      "{'start': 47, 'end': 63, 'text': 'Krishnamurthi Rao', 'labels': ['OTHER_PERSON']}\n",
      "{'start': 87, 'end': 97, 'text': 'petitioner', 'labels': ['PETITIONER']}\n",
      "{'start': 123, 'end': 152, 'text': 'Assistant Superintendent of Police', 'labels': ['OTHER_PERSON']}\n"
     ]
    }
   ],
   "source": [
    "text = f\"\"\"\n",
    "Treat the following text as a legal document and find the entities in it. \\\n",
    "You only have following entities to find: {\", \".join(LABELS)}. \\\n",
    "Do not show any other entities. \\\n",
    "Remember to correctly show the place of the entity in the text. Do not show the same entity twice.  \\\n",
    "Do not confuse the start and end of the entity. \\\n",
    "Use the same format as in the example below. \\\n",
    "If you are not sure about the entity, leave it blank. \\\n",
    "\"\"\"\n",
    "\n",
    "promt = \"\"\"\\n\n",
    "INPUT: {'text': \"\\n\\n(7) On specific query by the Bench about an entry of Rs. 1,31,37,500 on deposit side of Hongkong Bank account of which a photo copy is appearing at p. 40 of assessee's paper book, learned authorised representative submitted that it was related to loan from broker, Rahul & Co. on the basis of his submission a necessary mark is put by us on that photo copy.\"}\n",
    "\n",
    "OUTPUT: {'start': 90, 'end': 103, 'text': 'Hongkong Bank', 'labels': ['ORG']}\n",
    "{'start': 267, 'end': 278, 'text': 'Rahul & Co.', 'labels': ['ORG']}\n",
    "\n",
    "INPUT: {'text': 'He was also asked whether Agya <span class=\"hidden_text\" id=\"span_5\"> CRA No.326-DB of 1998 6</span> Kaur, mother-in-law of the deceased lived separately from Tarlochan Singh.'}\n",
    "\n",
    "OUTPUT: {'start': 26, 'end': 30, 'text': 'Agya', 'labels': ['OTHER_PERSON']}\n",
    "{'start': 101, 'end': 105, 'text': 'Kaur', 'labels': ['OTHER_PERSON']}\n",
    "{'start': 159, 'end': 174, 'text': 'Tarlochan Singh', 'labels': ['OTHER_PERSON']}\n",
    "\n",
    "\n",
    "INPUT: {'text': ' \\n5.2 CW3 Mr Vijay Mishra , Deputy Manager, HDFC Bank, Noida, UP has deposed that complainant had a current account with HDFC Bank in the year 2004\\xad2005.'}\n",
    "\n",
    "OUTPUT: {'start': 13, 'end': 25, 'text': 'Vijay Mishra', 'labels': ['WITNESS']}\n",
    "{'start': 44, 'end': 60, 'text': 'HDFC Bank, Noida', 'labels': ['ORG']}\n",
    "{'start': 62, 'end': 64, 'text': 'UP', 'labels': ['GPE']}\n",
    "{'start': 121, 'end': 130, 'text': 'HDFC Bank', 'labels': ['ORG']}\n",
    "\n",
    "INPUT: {'text': 'On the night of 28 March, 1959, Krishnamurthi Rao, according to his story, walked into the room of the petitioner, gave the bribe and made the pre-arranged signal which brought the Assistant Superintendent of Police and his companions to the room.'}\n",
    "\n",
    "OUTPUT:\n",
    "\"\"\"\n",
    "\n",
    "output = get_completion(text + promt)\n",
    "print(output)"
   ]
  },
  {
   "cell_type": "code",
   "execution_count": 59,
   "metadata": {},
   "outputs": [
    {
     "data": {
      "text/plain": [
       "[{'value': {'start': 101, 'end': 108, 'text': 'England', 'labels': ['GPE']},\n",
       "  'id': 'Q3J9O1UZ',\n",
       "  'from_name': 'label',\n",
       "  'to_name': 'text',\n",
       "  'type': 'labels'},\n",
       " {'value': {'start': 134,\n",
       "   'end': 140,\n",
       "   'text': 'Heydon',\n",
       "   'labels': ['OTHER_PERSON']},\n",
       "  'id': 'ETZMBDT6',\n",
       "  'from_name': 'label',\n",
       "  'to_name': 'text',\n",
       "  'type': 'labels'}]"
      ]
     },
     "execution_count": 59,
     "metadata": {},
     "output_type": "execute_result"
    }
   ],
   "source": [
    "examples_per_label = {label: [] for label in LABELS}\n",
    "for i in range(len(valid_data)):\n",
    "    for j in range(len(valid_data[i]['annotations'][0]['result'])):\n",
    "        label = valid_data[i]['annotations'][0]['result'][j]['value']['labels'][0]\n",
    "        examples_per_label[label].append(valid_data[i])\n",
    "\n",
    "#keep 2 examples per label\n",
    "for label in examples_per_label:\n",
    "    examples_per_label[label] = examples_per_label[label][:1]\n",
    "\n",
    "examples_per_label['GPE'][0]['annotations'][0]['result']"
   ]
  },
  {
   "cell_type": "code",
   "execution_count": 61,
   "metadata": {},
   "outputs": [
    {
     "data": {
      "text/plain": [
       "'\\n\\nINPUT: {\\'text\\': \\'The LoA stipulated that:\\\\n\\\\n \"17. The allotment of said land is subject to the outcome of the Appeal Suit No. 274/2007 in (OS No. 155/05), WP Nos. 19670/07, 20667/07 and 22043/07 pending before the Hon\\\\\\'ble High Court of Andhra Pradesh.\" \\\\n\\\\n PART A 4\\'}\\n\\nOUTPUT: {\\'start\\': 92, \\'end\\': 116, \\'text\\': \\'Appeal Suit No. 274/2007\\', \\'labels\\': [\\'CASE_NUMBER\\']} {\\'start\\': 121, \\'end\\': 134, \\'text\\': \\'OS No. 155/05\\', \\'labels\\': [\\'CASE_NUMBER\\']} {\\'start\\': 137, \\'end\\': 176, \\'text\\': \\'WP Nos. 19670/07, 20667/07 and 22043/07\\', \\'labels\\': [\\'CASE_NUMBER\\']} {\\'start\\': 204, \\'end\\': 232, \\'text\\': \\'High Court of Andhra Pradesh\\', \\'labels\\': [\\'COURT\\']}\\n\\nINPUT: {\\'text\\': \"The petitioner Sukhbir Kataria, who is accused no.14 in Criminal Complaint bearing No.74136 dated 04.06.2013 (Annexure P-1) titled as \\'Om Parkash Vs. Satish Kumar and others\\' seeks quashing of the same alongwith the summoning order dated 22.07.2013 (Annexure P-2), whereby he had been summoned to face trial under Section 420, 467, 468, 471, 120-B IPC.\"}\\n\\nOUTPUT: {\\'start\\': 15, \\'end\\': 30, \\'text\\': \\'Sukhbir Kataria\\', \\'labels\\': [\\'PETITIONER\\']} {\\'start\\': 56, \\'end\\': 91, \\'text\\': \\'Criminal Complaint bearing No.74136\\', \\'labels\\': [\\'CASE_NUMBER\\']} {\\'start\\': 98, \\'end\\': 108, \\'text\\': \\'04.06.2013\\', \\'labels\\': [\\'DATE\\']} {\\'start\\': 135, \\'end\\': 173, \\'text\\': \\'Om Parkash Vs. Satish Kumar and others\\', \\'labels\\': [\\'PRECEDENT\\']} {\\'start\\': 238, \\'end\\': 248, \\'text\\': \\'22.07.2013\\', \\'labels\\': [\\'DATE\\']} {\\'start\\': 314, \\'end\\': 347, \\'text\\': \\'Section 420, 467, 468, 471, 120-B\\', \\'labels\\': [\\'PROVISION\\']} {\\'start\\': 348, \\'end\\': 351, \\'text\\': \\'IPC\\', \\'labels\\': [\\'STATUTE\\']}\\n\\nINPUT: {\\'text\\': \\'Respondent-Balbir Singh filed a suit bearing No. 369/1986 against one Banwari Lal and Swaraj for declaration and Page 25 C/CA/305/2019 JUDGMENT permanent injunction.\\'}\\n\\nOUTPUT: {\\'start\\': 11, \\'end\\': 23, \\'text\\': \\'Balbir Singh\\', \\'labels\\': [\\'RESPONDENT\\']} {\\'start\\': 45, \\'end\\': 57, \\'text\\': \\'No. 369/1986\\', \\'labels\\': [\\'CASE_NUMBER\\']} {\\'start\\': 70, \\'end\\': 81, \\'text\\': \\'Banwari Lal\\', \\'labels\\': [\\'OTHER_PERSON\\']} {\\'start\\': 86, \\'end\\': 92, \\'text\\': \\'Swaraj\\', \\'labels\\': [\\'OTHER_PERSON\\']} {\\'start\\': 121, \\'end\\': 143, \\'text\\': \\'C/CA/305/2019 JUDGMENT\\', \\'labels\\': [\\'CASE_NUMBER\\']}\\n\\nINPUT: {\\'text\\': \\'(See Principles of Statutory Interpretation by Justice G.P. Singh, 9th Edn., 2004 at p. \\\\n\\\\n 438.).\\'}\\n\\nOUTPUT: {\\'start\\': 55, \\'end\\': 65, \\'text\\': \\'G.P. Singh\\', \\'labels\\': [\\'JUDGE\\']}\\n\\nINPUT: {\\'text\\': \\'In para 13 of the plaint, it has been further averred that, \"When the plaintiffs asked the defendant to obtain requisite documents immediately, the defendant assured the plaintiffs that he would obtain the requisite documents and would be available on 29/12/2004 at the office of the Sub\\\\xadRegistrar, Geeta Colony, Delhi and would execute the sale deed\".\\'}\\n\\nOUTPUT: {\\'start\\': 252, \\'end\\': 262, \\'text\\': \\'29/12/2004\\', \\'labels\\': [\\'DATE\\']} {\\'start\\': 313, \\'end\\': 318, \\'text\\': \\'Delhi\\', \\'labels\\': [\\'GPE\\']}\\n\\nINPUT: {\\'text\\': \\'On 14th February, 2018, one Mr. Amar N. \\\\n\\\\nBarot, General Secretary of the Textile Labour Association made a mention before the court that the judgment in the case may either be dictated or the matter may be released and sent to the regular bench. \\\\n\\\\n2.\\'}\\n\\nOUTPUT: {\\'start\\': 3, \\'end\\': 22, \\'text\\': \\'14th February, 2018\\', \\'labels\\': [\\'DATE\\']} {\\'start\\': 32, \\'end\\': 47, \\'text\\': \\'Amar N. \\\\n\\\\nBarot\\', \\'labels\\': [\\'OTHER_PERSON\\']} {\\'start\\': 74, \\'end\\': 100, \\'text\\': \\'Textile Labour Association\\', \\'labels\\': [\\'ORG\\']}\\n\\nINPUT: {\\'text\\': \\'Their Lordships have said --  \"It is a sound rule of construction of a statute firmly established in England as far back as 1584 when Heydon\\\\\\'s case was decided that --\"......\\'}\\n\\nOUTPUT: {\\'start\\': 101, \\'end\\': 108, \\'text\\': \\'England\\', \\'labels\\': [\\'GPE\\']} {\\'start\\': 134, \\'end\\': 140, \\'text\\': \\'Heydon\\', \\'labels\\': [\\'OTHER_PERSON\\']}\\n\\nINPUT: {\\'text\\': \"True, our Constitution has no \\'due process\\' clause or the VIII Amendment; but, in this branch of law, after R.C. Cooper v. Union of India, (1970) 1 SCC 248 and Maneka Gandhi v. Union of India, (1978) 1 SCC 248, the consequence is the same.\"}\\n\\nOUTPUT: {\\'start\\': 10, \\'end\\': 22, \\'text\\': \\'Constitution\\', \\'labels\\': [\\'STATUTE\\']} {\\'start\\': 108, \\'end\\': 155, \\'text\\': \\'R.C. Cooper v. Union of India, (1970) 1 SCC 248\\', \\'labels\\': [\\'PRECEDENT\\']} {\\'start\\': 160, \\'end\\': 209, \\'text\\': \\'Maneka Gandhi v. Union of India, (1978) 1 SCC 248\\', \\'labels\\': [\\'PRECEDENT\\']}\\n\\nINPUT: {\\'text\\': \"Counsel for appellants contended that who is the Jagirdar against whom the legal fiction is to apply, is not pleaded by the claim petitioners and the scope and ambit of Rule 2 of the Rules regarding \\'Grant of Pattadari rights in non-Khalsa villages\\', 1356 Fasli framed under Section 172 of the Hyderabad Land Revenue Act, 1317 Fasli is nebulous.\"}\\n\\nOUTPUT: {\\'start\\': 169, \\'end\\': 175, \\'text\\': \\'Rule 2\\', \\'labels\\': [\\'PROVISION\\']} {\\'start\\': 275, \\'end\\': 286, \\'text\\': \\'Section 172\\', \\'labels\\': [\\'PROVISION\\']} {\\'start\\': 294, \\'end\\': 326, \\'text\\': \\'Hyderabad Land Revenue Act, 1317\\', \\'labels\\': [\\'STATUTE\\']}\\n\\nINPUT: {\\'text\\': \"True, our Constitution has no \\'due process\\' clause or the VIII Amendment; but, in this branch of law, after R.C. Cooper v. Union of India, (1970) 1 SCC 248 and Maneka Gandhi v. Union of India, (1978) 1 SCC 248, the consequence is the same.\"}\\n\\nOUTPUT: {\\'start\\': 10, \\'end\\': 22, \\'text\\': \\'Constitution\\', \\'labels\\': [\\'STATUTE\\']} {\\'start\\': 108, \\'end\\': 155, \\'text\\': \\'R.C. Cooper v. Union of India, (1970) 1 SCC 248\\', \\'labels\\': [\\'PRECEDENT\\']} {\\'start\\': 160, \\'end\\': 209, \\'text\\': \\'Maneka Gandhi v. Union of India, (1978) 1 SCC 248\\', \\'labels\\': [\\'PRECEDENT\\']}\\n\\nINPUT: {\\'text\\': \\'The LoA stipulated that:\\\\n\\\\n \"17. The allotment of said land is subject to the outcome of the Appeal Suit No. 274/2007 in (OS No. 155/05), WP Nos. 19670/07, 20667/07 and 22043/07 pending before the Hon\\\\\\'ble High Court of Andhra Pradesh.\" \\\\n\\\\n PART A 4\\'}\\n\\nOUTPUT: {\\'start\\': 92, \\'end\\': 116, \\'text\\': \\'Appeal Suit No. 274/2007\\', \\'labels\\': [\\'CASE_NUMBER\\']} {\\'start\\': 121, \\'end\\': 134, \\'text\\': \\'OS No. 155/05\\', \\'labels\\': [\\'CASE_NUMBER\\']} {\\'start\\': 137, \\'end\\': 176, \\'text\\': \\'WP Nos. 19670/07, 20667/07 and 22043/07\\', \\'labels\\': [\\'CASE_NUMBER\\']} {\\'start\\': 204, \\'end\\': 232, \\'text\\': \\'High Court of Andhra Pradesh\\', \\'labels\\': [\\'COURT\\']}\\n\\nINPUT: {\\'text\\': \\'The testimony of the prosecutrix (PW-4) must have been appreciated in the light of the background of the case; more so, the prosecutrix (PW-4) was reluctant to go back to the house of her aunt and complained the act of sexual intercourse committed by the respondent-accused to her teachers, Pooja Mahajan (PW-1) and Ritubala (PW-2).\\'}\\n\\nOUTPUT: {\\'start\\': 291, \\'end\\': 304, \\'text\\': \\'Pooja Mahajan\\', \\'labels\\': [\\'WITNESS\\']} {\\'start\\': 316, \\'end\\': 324, \\'text\\': \\'Ritubala\\', \\'labels\\': [\\'WITNESS\\']}\\n\\nINPUT: {\\'text\\': \\'Their Lordships have said --  \"It is a sound rule of construction of a statute firmly established in England as far back as 1584 when Heydon\\\\\\'s case was decided that --\"......\\'}\\n\\nOUTPUT: {\\'start\\': 101, \\'end\\': 108, \\'text\\': \\'England\\', \\'labels\\': [\\'GPE\\']} {\\'start\\': 134, \\'end\\': 140, \\'text\\': \\'Heydon\\', \\'labels\\': [\\'OTHER_PERSON\\']}'"
      ]
     },
     "execution_count": 61,
     "metadata": {},
     "output_type": "execute_result"
    }
   ],
   "source": [
    "# create promt where I show 2 examples per label as few shot learning\n",
    "promt = \"\"\n",
    "for label in examples_per_label:\n",
    "    for example in examples_per_label[label]:\n",
    "        promt += f\"\\n\\nINPUT: {example['data']}\\n\\nOUTPUT:\"\n",
    "        for result in example['annotations'][0]['result']:\n",
    "            promt += f\" {result['value']}\"\n",
    "\n",
    "promt \n"
   ]
  },
  {
   "cell_type": "code",
   "execution_count": 62,
   "metadata": {},
   "outputs": [
    {
     "data": {
      "text/plain": [
       "{'id': 'e8ab02df67d54b398e53984e751348dc',\n",
       " 'annotations': [{'result': [{'value': {'start': 71,\n",
       "      'end': 81,\n",
       "      'text': 'Kiran Suri',\n",
       "      'labels': ['OTHER_PERSON']},\n",
       "     'id': 'I5ZUBW7K',\n",
       "     'from_name': 'label',\n",
       "     'to_name': 'text',\n",
       "     'type': 'labels'},\n",
       "    {'value': {'start': 114,\n",
       "      'end': 131,\n",
       "      'text': 'Bombay High Court',\n",
       "      'labels': ['COURT']},\n",
       "     'id': 'P3ZIFVVF',\n",
       "     'from_name': 'label',\n",
       "     'to_name': 'text',\n",
       "     'type': 'labels'},\n",
       "    {'value': {'start': 135,\n",
       "      'end': 212,\n",
       "      'text': 'Municipal Corporation of Greater Bombay v. Kisan Gangaram Hire [1987 ACJ 311]',\n",
       "      'labels': ['PRECEDENT']},\n",
       "     'id': 'B2IJBQZS',\n",
       "     'from_name': 'label',\n",
       "     'to_name': 'text',\n",
       "     'type': 'labels'}]}],\n",
       " 'data': {'text': 'In support of her contention, the learned counsel for the appellant Ms.Kiran Suri referred to the decision of the Bombay High Court in Municipal Corporation of Greater Bombay v. Kisan Gangaram Hire [1987 ACJ 311] wherein the Court dealt with a similar contention and observed thus:\\n \"8.'},\n",
       " 'meta': {'source': 'motorvehicles_kerala_high_court judgement https://indiankanoon.org/doc/87470024'}}"
      ]
     },
     "execution_count": 62,
     "metadata": {},
     "output_type": "execute_result"
    }
   ],
   "source": [
    "#get random example from valid data which is not in examples_per_label\n",
    "import random\n",
    "\n",
    "for i in range(100):\n",
    "    random_example = random.choice(valid_data)\n",
    "    if random_example not in examples_per_label[random_example['annotations'][0]['result'][0]['value']['labels'][0]]:\n",
    "        break\n",
    "\n",
    "random_example"
   ]
  },
  {
   "cell_type": "code",
   "execution_count": 63,
   "metadata": {},
   "outputs": [],
   "source": [
    "promt += f\"\\n\\nINPUT: {random_example['data']}\\n\\nOUTPUT:\"\n"
   ]
  },
  {
   "cell_type": "code",
   "execution_count": 67,
   "metadata": {},
   "outputs": [
    {
     "data": {
      "text/plain": [
       "'In support of her contention, the learned counsel for the appellant Ms.Kiran Suri referred to the decision of the Bombay High Court in Municipal Corporation of Greater Bombay v. Kisan Gangaram Hire [1987 ACJ 311] wherein the Court dealt with a similar contention and observed thus:\\n \"8.'"
      ]
     },
     "execution_count": 67,
     "metadata": {},
     "output_type": "execute_result"
    }
   ],
   "source": [
    "random_example['data']['text']"
   ]
  },
  {
   "cell_type": "code",
   "execution_count": 64,
   "metadata": {},
   "outputs": [
    {
     "name": "stdout",
     "output_type": "stream",
     "text": [
      "{'start': 47, 'end': 62, 'text': 'Kiran Suri', 'labels': ['LAWYER']} {'start': 87, 'end': 103, 'text': 'Bombay High Court', 'labels': ['COURT']} {'start': 107, 'end': 139, 'text': 'Municipal Corporation of Greater Bombay', 'labels': ['ORG']} {'start': 143, 'end': 168, 'text': 'Kisan Gangaram Hire [1987 ACJ 311]', 'labels': ['PRECEDENT']}\n"
     ]
    }
   ],
   "source": [
    "output = get_completion(text + promt)\n",
    "print(output)"
   ]
  },
  {
   "cell_type": "code",
   "execution_count": 65,
   "metadata": {},
   "outputs": [
    {
     "data": {
      "text/plain": [
       "[{'value': {'start': 71,\n",
       "   'end': 81,\n",
       "   'text': 'Kiran Suri',\n",
       "   'labels': ['OTHER_PERSON']},\n",
       "  'id': 'I5ZUBW7K',\n",
       "  'from_name': 'label',\n",
       "  'to_name': 'text',\n",
       "  'type': 'labels'},\n",
       " {'value': {'start': 114,\n",
       "   'end': 131,\n",
       "   'text': 'Bombay High Court',\n",
       "   'labels': ['COURT']},\n",
       "  'id': 'P3ZIFVVF',\n",
       "  'from_name': 'label',\n",
       "  'to_name': 'text',\n",
       "  'type': 'labels'},\n",
       " {'value': {'start': 135,\n",
       "   'end': 212,\n",
       "   'text': 'Municipal Corporation of Greater Bombay v. Kisan Gangaram Hire [1987 ACJ 311]',\n",
       "   'labels': ['PRECEDENT']},\n",
       "  'id': 'B2IJBQZS',\n",
       "  'from_name': 'label',\n",
       "  'to_name': 'text',\n",
       "  'type': 'labels'}]"
      ]
     },
     "execution_count": 65,
     "metadata": {},
     "output_type": "execute_result"
    }
   ],
   "source": [
    "random_example['annotations'][0]['result']"
   ]
  },
  {
   "cell_type": "code",
   "execution_count": null,
   "metadata": {},
   "outputs": [],
   "source": []
  }
 ],
 "metadata": {
  "kernelspec": {
   "display_name": "Python 3",
   "language": "python",
   "name": "python3"
  },
  "language_info": {
   "codemirror_mode": {
    "name": "ipython",
    "version": 3
   },
   "file_extension": ".py",
   "mimetype": "text/x-python",
   "name": "python",
   "nbconvert_exporter": "python",
   "pygments_lexer": "ipython3",
   "version": "3.10.10"
  },
  "orig_nbformat": 4
 },
 "nbformat": 4,
 "nbformat_minor": 2
}
