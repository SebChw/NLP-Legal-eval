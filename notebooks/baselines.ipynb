{
 "cells": [
  {
   "cell_type": "code",
   "execution_count": 1,
   "metadata": {},
   "outputs": [
    {
     "name": "stdout",
     "output_type": "stream",
     "text": [
      "Downloading and preparing dataset json/default to D:/hf_datasets/json/default-9acc4922681c4d90/0.0.0/fe5dd6ea2639a6df622901539cb550cf8797e5a6b2dd7af1cf934bed8e233e6e...\n"
     ]
    },
    {
     "data": {
      "application/vnd.jupyter.widget-view+json": {
       "model_id": "4ba15953c2b44191ba02b178a722cf95",
       "version_major": 2,
       "version_minor": 0
      },
      "text/plain": [
       "Downloading data files:   0%|          | 0/1 [00:00<?, ?it/s]"
      ]
     },
     "metadata": {},
     "output_type": "display_data"
    },
    {
     "data": {
      "application/vnd.jupyter.widget-view+json": {
       "model_id": "9ab86d88ddaf4558833f5dd6341858b6",
       "version_major": 2,
       "version_minor": 0
      },
      "text/plain": [
       "Extracting data files:   0%|          | 0/1 [00:00<?, ?it/s]"
      ]
     },
     "metadata": {},
     "output_type": "display_data"
    },
    {
     "data": {
      "application/vnd.jupyter.widget-view+json": {
       "model_id": "4efffed287f34563bc515b5c7801998b",
       "version_major": 2,
       "version_minor": 0
      },
      "text/plain": [
       "Generating train split: 0 examples [00:00, ? examples/s]"
      ]
     },
     "metadata": {},
     "output_type": "display_data"
    },
    {
     "name": "stdout",
     "output_type": "stream",
     "text": [
      "Dataset json downloaded and prepared to D:/hf_datasets/json/default-9acc4922681c4d90/0.0.0/fe5dd6ea2639a6df622901539cb550cf8797e5a6b2dd7af1cf934bed8e233e6e. Subsequent calls will reuse this data.\n"
     ]
    },
    {
     "data": {
      "application/vnd.jupyter.widget-view+json": {
       "model_id": "8faef4a6c5f74d179ae6a2210a45d36a",
       "version_major": 2,
       "version_minor": 0
      },
      "text/plain": [
       "  0%|          | 0/1 [00:00<?, ?it/s]"
      ]
     },
     "metadata": {},
     "output_type": "display_data"
    },
    {
     "name": "stdout",
     "output_type": "stream",
     "text": [
      "Downloading and preparing dataset json/default to D:/hf_datasets/json/default-8e94a40253265d68/0.0.0/fe5dd6ea2639a6df622901539cb550cf8797e5a6b2dd7af1cf934bed8e233e6e...\n"
     ]
    },
    {
     "data": {
      "application/vnd.jupyter.widget-view+json": {
       "model_id": "7a117a5a79624065b557ab7a68171df2",
       "version_major": 2,
       "version_minor": 0
      },
      "text/plain": [
       "Downloading data files:   0%|          | 0/1 [00:00<?, ?it/s]"
      ]
     },
     "metadata": {},
     "output_type": "display_data"
    },
    {
     "data": {
      "application/vnd.jupyter.widget-view+json": {
       "model_id": "d8b326deb01e4a0bb29035d6582032e1",
       "version_major": 2,
       "version_minor": 0
      },
      "text/plain": [
       "Extracting data files:   0%|          | 0/1 [00:00<?, ?it/s]"
      ]
     },
     "metadata": {},
     "output_type": "display_data"
    },
    {
     "data": {
      "application/vnd.jupyter.widget-view+json": {
       "model_id": "6cc73474bb174229b200191bf4528730",
       "version_major": 2,
       "version_minor": 0
      },
      "text/plain": [
       "Generating train split: 0 examples [00:00, ? examples/s]"
      ]
     },
     "metadata": {},
     "output_type": "display_data"
    },
    {
     "name": "stdout",
     "output_type": "stream",
     "text": [
      "Dataset json downloaded and prepared to D:/hf_datasets/json/default-8e94a40253265d68/0.0.0/fe5dd6ea2639a6df622901539cb550cf8797e5a6b2dd7af1cf934bed8e233e6e. Subsequent calls will reuse this data.\n"
     ]
    },
    {
     "data": {
      "application/vnd.jupyter.widget-view+json": {
       "model_id": "c53a10353d67457f8f50b2a3f00a1b90",
       "version_major": 2,
       "version_minor": 0
      },
      "text/plain": [
       "  0%|          | 0/1 [00:00<?, ?it/s]"
      ]
     },
     "metadata": {},
     "output_type": "display_data"
    },
    {
     "data": {
      "application/vnd.jupyter.widget-view+json": {
       "model_id": "59c848c5eaaa4d66a8ff64bf86d82cde",
       "version_major": 2,
       "version_minor": 0
      },
      "text/plain": [
       "Map:   0%|          | 0/10995 [00:00<?, ? examples/s]"
      ]
     },
     "metadata": {},
     "output_type": "display_data"
    },
    {
     "data": {
      "application/vnd.jupyter.widget-view+json": {
       "model_id": "1b904e2050ba4eac82cbc091c154c679",
       "version_major": 2,
       "version_minor": 0
      },
      "text/plain": [
       "Map:   0%|          | 0/1074 [00:00<?, ? examples/s]"
      ]
     },
     "metadata": {},
     "output_type": "display_data"
    },
    {
     "data": {
      "application/vnd.jupyter.widget-view+json": {
       "model_id": "e5d47ae60ff24a69a9ccfa7ac733d6b3",
       "version_major": 2,
       "version_minor": 0
      },
      "text/plain": [
       "Map:   0%|          | 0/10995 [00:00<?, ? examples/s]"
      ]
     },
     "metadata": {},
     "output_type": "display_data"
    },
    {
     "data": {
      "application/vnd.jupyter.widget-view+json": {
       "model_id": "294bec5b84f444c0906c9e41a000af06",
       "version_major": 2,
       "version_minor": 0
      },
      "text/plain": [
       "Map:   0%|          | 0/1074 [00:00<?, ? examples/s]"
      ]
     },
     "metadata": {},
     "output_type": "display_data"
    }
   ],
   "source": [
    "from legal_eval.data import download_data, get_hf_dataset, parse_to_ner\n",
    "from pathlib import Path\n",
    "\n",
    "DATA_PATH = Path(\"../data\")\n",
    "\n",
    "%load_ext autoreload\n",
    "%autoreload 2\n",
    "\n",
    "download_data(DATA_PATH)\n",
    "dataset = get_hf_dataset(DATA_PATH)\n",
    "dataset_ner = parse_to_ner(dataset) "
   ]
  },
  {
   "cell_type": "code",
   "execution_count": 2,
   "metadata": {},
   "outputs": [],
   "source": [
    "from legal_eval.baselines import TurboSimpleBaseline, MLBaseline\n",
    "from legal_eval.utils import print_predictions, evaluate_nerlegal\n",
    "import fasttext\n",
    "from sklearn.linear_model import LogisticRegression\n",
    "from xgboost import XGBClassifier\n",
    "import numpy as np"
   ]
  },
  {
   "cell_type": "code",
   "execution_count": 3,
   "metadata": {},
   "outputs": [],
   "source": [
    "baseline1 = TurboSimpleBaseline()\n",
    "baseline1.fit(dataset_ner['train'])"
   ]
  },
  {
   "cell_type": "code",
   "execution_count": 4,
   "metadata": {},
   "outputs": [
    {
     "data": {
      "application/vnd.jupyter.widget-view+json": {
       "model_id": "4f32d73bb0bd4db4904c3367a616f126",
       "version_major": 2,
       "version_minor": 0
      },
      "text/plain": [
       "Map:   0%|          | 0/1074 [00:00<?, ? examples/s]"
      ]
     },
     "metadata": {},
     "output_type": "display_data"
    },
    {
     "data": {
      "text/html": [
       "<div>\n",
       "<style scoped>\n",
       "    .dataframe tbody tr th:only-of-type {\n",
       "        vertical-align: middle;\n",
       "    }\n",
       "\n",
       "    .dataframe tbody tr th {\n",
       "        vertical-align: top;\n",
       "    }\n",
       "\n",
       "    .dataframe thead th {\n",
       "        text-align: right;\n",
       "    }\n",
       "</style>\n",
       "<table border=\"1\" class=\"dataframe\">\n",
       "  <thead>\n",
       "    <tr style=\"text-align: right;\">\n",
       "      <th></th>\n",
       "      <th>CASE_NUMBER</th>\n",
       "      <th>COURT</th>\n",
       "      <th>DATE</th>\n",
       "      <th>GPE</th>\n",
       "      <th>JUDGE</th>\n",
       "      <th>LAWYER</th>\n",
       "      <th>ORG</th>\n",
       "      <th>OTHER_PERSON</th>\n",
       "      <th>PETITIONER</th>\n",
       "      <th>PRECEDENT</th>\n",
       "      <th>PROVISION</th>\n",
       "      <th>RESPONDENT</th>\n",
       "      <th>STATUTE</th>\n",
       "      <th>WITNESS</th>\n",
       "      <th>overall_precision</th>\n",
       "      <th>overall_recall</th>\n",
       "      <th>overall_f1</th>\n",
       "      <th>overall_accuracy</th>\n",
       "      <th>total_time_in_seconds</th>\n",
       "      <th>samples_per_second</th>\n",
       "      <th>latency_in_seconds</th>\n",
       "    </tr>\n",
       "  </thead>\n",
       "  <tbody>\n",
       "    <tr>\n",
       "      <th>precision</th>\n",
       "      <td>0.0</td>\n",
       "      <td>0.000483</td>\n",
       "      <td>0.005535</td>\n",
       "      <td>0.037037</td>\n",
       "      <td>0.093458</td>\n",
       "      <td>0.054054</td>\n",
       "      <td>0.003307</td>\n",
       "      <td>0.027755</td>\n",
       "      <td>0.0</td>\n",
       "      <td>0.0</td>\n",
       "      <td>0.012730</td>\n",
       "      <td>0.004963</td>\n",
       "      <td>0.020853</td>\n",
       "      <td>0.007246</td>\n",
       "      <td>0.007369</td>\n",
       "      <td>0.057106</td>\n",
       "      <td>0.013053</td>\n",
       "      <td>0.441148</td>\n",
       "      <td>0.228171</td>\n",
       "      <td>4706.998132</td>\n",
       "      <td>0.000212</td>\n",
       "    </tr>\n",
       "    <tr>\n",
       "      <th>recall</th>\n",
       "      <td>0.0</td>\n",
       "      <td>0.003378</td>\n",
       "      <td>0.041860</td>\n",
       "      <td>0.019608</td>\n",
       "      <td>0.058824</td>\n",
       "      <td>0.023810</td>\n",
       "      <td>0.196203</td>\n",
       "      <td>0.129278</td>\n",
       "      <td>0.0</td>\n",
       "      <td>0.0</td>\n",
       "      <td>0.105469</td>\n",
       "      <td>0.013029</td>\n",
       "      <td>0.215686</td>\n",
       "      <td>0.018519</td>\n",
       "      <td>0.007369</td>\n",
       "      <td>0.057106</td>\n",
       "      <td>0.013053</td>\n",
       "      <td>0.441148</td>\n",
       "      <td>0.228171</td>\n",
       "      <td>4706.998132</td>\n",
       "      <td>0.000212</td>\n",
       "    </tr>\n",
       "    <tr>\n",
       "      <th>f1</th>\n",
       "      <td>0.0</td>\n",
       "      <td>0.000845</td>\n",
       "      <td>0.009777</td>\n",
       "      <td>0.025641</td>\n",
       "      <td>0.072202</td>\n",
       "      <td>0.033058</td>\n",
       "      <td>0.006504</td>\n",
       "      <td>0.045699</td>\n",
       "      <td>0.0</td>\n",
       "      <td>0.0</td>\n",
       "      <td>0.022718</td>\n",
       "      <td>0.007188</td>\n",
       "      <td>0.038029</td>\n",
       "      <td>0.010417</td>\n",
       "      <td>0.007369</td>\n",
       "      <td>0.057106</td>\n",
       "      <td>0.013053</td>\n",
       "      <td>0.441148</td>\n",
       "      <td>0.228171</td>\n",
       "      <td>4706.998132</td>\n",
       "      <td>0.000212</td>\n",
       "    </tr>\n",
       "    <tr>\n",
       "      <th>number</th>\n",
       "      <td>119.0</td>\n",
       "      <td>296.000000</td>\n",
       "      <td>215.000000</td>\n",
       "      <td>153.000000</td>\n",
       "      <td>170.000000</td>\n",
       "      <td>504.000000</td>\n",
       "      <td>158.000000</td>\n",
       "      <td>263.000000</td>\n",
       "      <td>206.0</td>\n",
       "      <td>177.0</td>\n",
       "      <td>256.000000</td>\n",
       "      <td>307.000000</td>\n",
       "      <td>204.000000</td>\n",
       "      <td>54.000000</td>\n",
       "      <td>0.007369</td>\n",
       "      <td>0.057106</td>\n",
       "      <td>0.013053</td>\n",
       "      <td>0.441148</td>\n",
       "      <td>0.228171</td>\n",
       "      <td>4706.998132</td>\n",
       "      <td>0.000212</td>\n",
       "    </tr>\n",
       "  </tbody>\n",
       "</table>\n",
       "</div>"
      ],
      "text/plain": [
       "           CASE_NUMBER       COURT  ...  samples_per_second  latency_in_seconds\n",
       "precision          0.0    0.000483  ...         4706.998132            0.000212\n",
       "recall             0.0    0.003378  ...         4706.998132            0.000212\n",
       "f1                 0.0    0.000845  ...         4706.998132            0.000212\n",
       "number           119.0  296.000000  ...         4706.998132            0.000212\n",
       "\n",
       "[4 rows x 21 columns]"
      ]
     },
     "execution_count": 4,
     "metadata": {},
     "output_type": "execute_result"
    }
   ],
   "source": [
    "evaluate_nerlegal(dataset_ner['test'], baseline1)"
   ]
  },
  {
   "cell_type": "code",
   "execution_count": 5,
   "metadata": {},
   "outputs": [
    {
     "name": "stdout",
     "output_type": "stream",
     "text": [
      "TOKEN\tPREDICTION\tTARGET\n",
      "True,\tO\tO\n",
      "our\tO\tO\n",
      "Constitution\tB-STATUTE\tB-STATUTE\n",
      "has\tO\tO\n",
      "no\tO\tO\n",
      "'due\tO\tO\n",
      "process'\tO\tO\n",
      "clause\tB-PROVISION\tO\n",
      "or\tI-PROVISION\tO\n",
      "the\tI-ORG\tO\n",
      "VIII\tI-PROVISION\tO\n",
      "Amendment;\tO\tO\n",
      "but,\tO\tO\n",
      "in\tI-ORG\tO\n",
      "this\tO\tO\n",
      "branch\tO\tO\n",
      "of\tI-ORG\tO\n",
      "law,\tO\tO\n",
      "after\tI-PROVISION\tO\n",
      "R.C.\tB-JUDGE\tB-PRECEDENT\n",
      "Cooper\tI-PETITIONER\tI-PRECEDENT\n",
      "v.\tI-PRECEDENT\tI-PRECEDENT\n",
      "Union\tB-ORG\tI-PRECEDENT\n",
      "of\tI-ORG\tI-PRECEDENT\n",
      "India,\tI-ORG\tI-PRECEDENT\n",
      "(1970)\tI-PRECEDENT\tI-PRECEDENT\n",
      "1\tB-DATE\tI-PRECEDENT\n",
      "SCC\tI-PRECEDENT\tI-PRECEDENT\n",
      "248\tI-PRECEDENT\tI-PRECEDENT\n",
      "and\tI-ORG\tO\n",
      "Maneka\tB-OTHER_PERSON\tB-PRECEDENT\n",
      "Gandhi\tB-ORG\tI-PRECEDENT\n",
      "v.\tI-PRECEDENT\tI-PRECEDENT\n",
      "Union\tB-ORG\tI-PRECEDENT\n",
      "of\tI-ORG\tI-PRECEDENT\n",
      "India,\tI-ORG\tI-PRECEDENT\n",
      "(1978)\tO\tI-PRECEDENT\n",
      "1\tB-DATE\tI-PRECEDENT\n",
      "SCC\tI-PRECEDENT\tI-PRECEDENT\n",
      "248,\tO\tI-PRECEDENT\n",
      "the\tI-ORG\tO\n",
      "consequence\tO\tO\n",
      "is\tO\tO\n",
      "the\tI-ORG\tO\n",
      "same.\tO\tO\n"
     ]
    }
   ],
   "source": [
    "print_predictions(dataset_ner['test'][0], baseline1)"
   ]
  },
  {
   "cell_type": "code",
   "execution_count": 7,
   "metadata": {},
   "outputs": [
    {
     "name": "stderr",
     "output_type": "stream",
     "text": [
      "Warning : `load_model` does not return WordVectorModel or SupervisedModel any more, but a `FastText` object which is very similar.\n"
     ]
    },
    {
     "data": {
      "application/vnd.jupyter.widget-view+json": {
       "model_id": "9dfc0ec0a26f4444ba389368b34b3554",
       "version_major": 2,
       "version_minor": 0
      },
      "text/plain": [
       "Casting the dataset:   0%|          | 0/10995 [00:00<?, ? examples/s]"
      ]
     },
     "metadata": {},
     "output_type": "display_data"
    },
    {
     "name": "stderr",
     "output_type": "stream",
     "text": [
      "Parameter 'fn_kwargs'={'embed_model': <fasttext.FastText._FastText object at 0x000001DA31DC4A30>, 'window_size': 1} of the transform datasets.arrow_dataset.Dataset._map_single couldn't be hashed properly, a random hash was used instead. Make sure your transforms and parameters are serializable with pickle or dill for the dataset fingerprinting and caching to work. If you reuse this transform, the caching mechanism will consider it to be different from the previous calls and recompute everything. This warning is only showed once. Subsequent hashing failures won't be showed.\n"
     ]
    },
    {
     "data": {
      "application/vnd.jupyter.widget-view+json": {
       "model_id": "247e5849795d4a7190b787cd9e3a8e89",
       "version_major": 2,
       "version_minor": 0
      },
      "text/plain": [
       "Map:   0%|          | 0/10995 [00:00<?, ? examples/s]"
      ]
     },
     "metadata": {},
     "output_type": "display_data"
    }
   ],
   "source": [
    "MODEL_PATH = \"../embeddings/legal_eval.bin\"\n",
    "\n",
    "model = fasttext.load_model(MODEL_PATH)\n",
    "ml_baseline = MLBaseline(model, XGBClassifier(), window_size=1)\n",
    "X, y = ml_baseline.prepare_dataset(dataset_ner['train'])"
   ]
  },
  {
   "cell_type": "code",
   "execution_count": 8,
   "metadata": {},
   "outputs": [],
   "source": [
    "ml_baseline.fit(X, y, n_o_selected=10000)"
   ]
  },
  {
   "cell_type": "code",
   "execution_count": 6,
   "metadata": {},
   "outputs": [
    {
     "name": "stderr",
     "output_type": "stream",
     "text": [
      "Loading cached processed dataset at D:\\hf_datasets\\json\\default-a8e9242f0c3ba640\\0.0.0\\fe5dd6ea2639a6df622901539cb550cf8797e5a6b2dd7af1cf934bed8e233e6e\\cache-d4f4ab5ea8677ed3.arrow\n"
     ]
    },
    {
     "data": {
      "text/html": [
       "<div>\n",
       "<style scoped>\n",
       "    .dataframe tbody tr th:only-of-type {\n",
       "        vertical-align: middle;\n",
       "    }\n",
       "\n",
       "    .dataframe tbody tr th {\n",
       "        vertical-align: top;\n",
       "    }\n",
       "\n",
       "    .dataframe thead th {\n",
       "        text-align: right;\n",
       "    }\n",
       "</style>\n",
       "<table border=\"1\" class=\"dataframe\">\n",
       "  <thead>\n",
       "    <tr style=\"text-align: right;\">\n",
       "      <th></th>\n",
       "      <th>CASE_NUMBER</th>\n",
       "      <th>COURT</th>\n",
       "      <th>DATE</th>\n",
       "      <th>GPE</th>\n",
       "      <th>JUDGE</th>\n",
       "      <th>LAWYER</th>\n",
       "      <th>ORG</th>\n",
       "      <th>OTHER_PERSON</th>\n",
       "      <th>PETITIONER</th>\n",
       "      <th>PRECEDENT</th>\n",
       "      <th>...</th>\n",
       "      <th>RESPONDENT</th>\n",
       "      <th>STATUTE</th>\n",
       "      <th>WITNESS</th>\n",
       "      <th>overall_precision</th>\n",
       "      <th>overall_recall</th>\n",
       "      <th>overall_f1</th>\n",
       "      <th>overall_accuracy</th>\n",
       "      <th>total_time_in_seconds</th>\n",
       "      <th>samples_per_second</th>\n",
       "      <th>latency_in_seconds</th>\n",
       "    </tr>\n",
       "  </thead>\n",
       "  <tbody>\n",
       "    <tr>\n",
       "      <th>precision</th>\n",
       "      <td>0.007946</td>\n",
       "      <td>0.082445</td>\n",
       "      <td>0.203412</td>\n",
       "      <td>0.120482</td>\n",
       "      <td>0.061927</td>\n",
       "      <td>0.085917</td>\n",
       "      <td>0.048096</td>\n",
       "      <td>0.044304</td>\n",
       "      <td>0.011834</td>\n",
       "      <td>0.000574</td>\n",
       "      <td>...</td>\n",
       "      <td>0.012658</td>\n",
       "      <td>0.119360</td>\n",
       "      <td>0.027778</td>\n",
       "      <td>0.045007</td>\n",
       "      <td>0.26087</td>\n",
       "      <td>0.076769</td>\n",
       "      <td>0.639172</td>\n",
       "      <td>10.342615</td>\n",
       "      <td>103.842213</td>\n",
       "      <td>0.00963</td>\n",
       "    </tr>\n",
       "    <tr>\n",
       "      <th>recall</th>\n",
       "      <td>0.117647</td>\n",
       "      <td>0.496622</td>\n",
       "      <td>0.720930</td>\n",
       "      <td>0.130719</td>\n",
       "      <td>0.158824</td>\n",
       "      <td>0.192460</td>\n",
       "      <td>0.151899</td>\n",
       "      <td>0.079848</td>\n",
       "      <td>0.058252</td>\n",
       "      <td>0.011299</td>\n",
       "      <td>...</td>\n",
       "      <td>0.179153</td>\n",
       "      <td>0.401961</td>\n",
       "      <td>0.037037</td>\n",
       "      <td>0.045007</td>\n",
       "      <td>0.26087</td>\n",
       "      <td>0.076769</td>\n",
       "      <td>0.639172</td>\n",
       "      <td>10.342615</td>\n",
       "      <td>103.842213</td>\n",
       "      <td>0.00963</td>\n",
       "    </tr>\n",
       "    <tr>\n",
       "      <th>f1</th>\n",
       "      <td>0.014886</td>\n",
       "      <td>0.141414</td>\n",
       "      <td>0.317298</td>\n",
       "      <td>0.125392</td>\n",
       "      <td>0.089109</td>\n",
       "      <td>0.118800</td>\n",
       "      <td>0.073059</td>\n",
       "      <td>0.056988</td>\n",
       "      <td>0.019672</td>\n",
       "      <td>0.001092</td>\n",
       "      <td>...</td>\n",
       "      <td>0.023646</td>\n",
       "      <td>0.184063</td>\n",
       "      <td>0.031746</td>\n",
       "      <td>0.045007</td>\n",
       "      <td>0.26087</td>\n",
       "      <td>0.076769</td>\n",
       "      <td>0.639172</td>\n",
       "      <td>10.342615</td>\n",
       "      <td>103.842213</td>\n",
       "      <td>0.00963</td>\n",
       "    </tr>\n",
       "    <tr>\n",
       "      <th>number</th>\n",
       "      <td>119.000000</td>\n",
       "      <td>296.000000</td>\n",
       "      <td>215.000000</td>\n",
       "      <td>153.000000</td>\n",
       "      <td>170.000000</td>\n",
       "      <td>504.000000</td>\n",
       "      <td>158.000000</td>\n",
       "      <td>263.000000</td>\n",
       "      <td>206.000000</td>\n",
       "      <td>177.000000</td>\n",
       "      <td>...</td>\n",
       "      <td>307.000000</td>\n",
       "      <td>204.000000</td>\n",
       "      <td>54.000000</td>\n",
       "      <td>0.045007</td>\n",
       "      <td>0.26087</td>\n",
       "      <td>0.076769</td>\n",
       "      <td>0.639172</td>\n",
       "      <td>10.342615</td>\n",
       "      <td>103.842213</td>\n",
       "      <td>0.00963</td>\n",
       "    </tr>\n",
       "  </tbody>\n",
       "</table>\n",
       "<p>4 rows × 21 columns</p>\n",
       "</div>"
      ],
      "text/plain": [
       "           CASE_NUMBER       COURT        DATE         GPE       JUDGE  \\\n",
       "precision     0.007946    0.082445    0.203412    0.120482    0.061927   \n",
       "recall        0.117647    0.496622    0.720930    0.130719    0.158824   \n",
       "f1            0.014886    0.141414    0.317298    0.125392    0.089109   \n",
       "number      119.000000  296.000000  215.000000  153.000000  170.000000   \n",
       "\n",
       "               LAWYER         ORG  OTHER_PERSON  PETITIONER   PRECEDENT  ...  \\\n",
       "precision    0.085917    0.048096      0.044304    0.011834    0.000574  ...   \n",
       "recall       0.192460    0.151899      0.079848    0.058252    0.011299  ...   \n",
       "f1           0.118800    0.073059      0.056988    0.019672    0.001092  ...   \n",
       "number     504.000000  158.000000    263.000000  206.000000  177.000000  ...   \n",
       "\n",
       "           RESPONDENT     STATUTE    WITNESS  overall_precision  \\\n",
       "precision    0.012658    0.119360   0.027778           0.045007   \n",
       "recall       0.179153    0.401961   0.037037           0.045007   \n",
       "f1           0.023646    0.184063   0.031746           0.045007   \n",
       "number     307.000000  204.000000  54.000000           0.045007   \n",
       "\n",
       "           overall_recall  overall_f1  overall_accuracy  \\\n",
       "precision         0.26087    0.076769          0.639172   \n",
       "recall            0.26087    0.076769          0.639172   \n",
       "f1                0.26087    0.076769          0.639172   \n",
       "number            0.26087    0.076769          0.639172   \n",
       "\n",
       "           total_time_in_seconds  samples_per_second  latency_in_seconds  \n",
       "precision              10.342615          103.842213             0.00963  \n",
       "recall                 10.342615          103.842213             0.00963  \n",
       "f1                     10.342615          103.842213             0.00963  \n",
       "number                 10.342615          103.842213             0.00963  \n",
       "\n",
       "[4 rows x 21 columns]"
      ]
     },
     "execution_count": 6,
     "metadata": {},
     "output_type": "execute_result"
    }
   ],
   "source": [
    "evaluate_nerlegal(dataset_ner['test'], ml_baseline)"
   ]
  },
  {
   "cell_type": "code",
   "execution_count": 26,
   "metadata": {},
   "outputs": [
    {
     "name": "stdout",
     "output_type": "stream",
     "text": [
      "TOKEN\tPREDICTION\tTARGET\n",
      "True,\tO\tO\n",
      "our\tO\tO\n",
      "Constitution\tB-PROVISION\tB-STATUTE\n",
      "has\tO\tO\n",
      "no\tO\tO\n",
      "'due\tI-PROVISION\tO\n",
      "process'\tI-PROVISION\tO\n",
      "clause\tI-PROVISION\tO\n",
      "or\tB-PROVISION\tO\n",
      "the\tB-PROVISION\tO\n",
      "VIII\tI-PROVISION\tO\n",
      "Amendment;\tB-PROVISION\tO\n",
      "but,\tI-PROVISION\tO\n",
      "in\tO\tO\n",
      "this\tO\tO\n",
      "branch\tI-STATUTE\tO\n",
      "of\tI-ORG\tO\n",
      "law,\tB-PRECEDENT\tO\n",
      "after\tI-PRECEDENT\tO\n",
      "R.C.\tI-PRECEDENT\tB-PRECEDENT\n",
      "Cooper\tI-PRECEDENT\tI-PRECEDENT\n",
      "v.\tI-PRECEDENT\tI-PRECEDENT\n",
      "Union\tI-PRECEDENT\tI-PRECEDENT\n",
      "of\tI-PRECEDENT\tI-PRECEDENT\n",
      "India,\tI-PRECEDENT\tI-PRECEDENT\n",
      "(1970)\tI-PRECEDENT\tI-PRECEDENT\n",
      "1\tI-PRECEDENT\tI-PRECEDENT\n",
      "SCC\tI-PRECEDENT\tI-PRECEDENT\n",
      "248\tI-PRECEDENT\tI-PRECEDENT\n",
      "and\tI-PRECEDENT\tO\n",
      "Maneka\tI-PRECEDENT\tB-PRECEDENT\n",
      "Gandhi\tI-PRECEDENT\tI-PRECEDENT\n",
      "v.\tI-PRECEDENT\tI-PRECEDENT\n",
      "Union\tI-PRECEDENT\tI-PRECEDENT\n",
      "of\tI-PRECEDENT\tI-PRECEDENT\n",
      "India,\tI-PRECEDENT\tI-PRECEDENT\n",
      "(1978)\tI-PRECEDENT\tI-PRECEDENT\n",
      "1\tI-PRECEDENT\tI-PRECEDENT\n",
      "SCC\tI-PRECEDENT\tI-PRECEDENT\n",
      "248,\tO\tI-PRECEDENT\n",
      "the\tI-PROVISION\tO\n",
      "consequence\tI-CASE_NUMBER\tO\n",
      "is\tI-CASE_NUMBER\tO\n",
      "the\tO\tO\n",
      "same.\tO\tO\n"
     ]
    }
   ],
   "source": [
    "print_predictions(dataset_ner['test'][0], ml_baseline)"
   ]
  },
  {
   "attachments": {},
   "cell_type": "markdown",
   "metadata": {},
   "source": [
    "### Having this X calculate average cosine distances between entries of different classes. Compare this with HF embeddings."
   ]
  },
  {
   "cell_type": "code",
   "execution_count": 71,
   "metadata": {},
   "outputs": [
    {
     "name": "stderr",
     "output_type": "stream",
     "text": [
      "Loading cached processed dataset at D:\\hf_datasets\\json\\default-5075b1c63c2a9678\\0.0.0\\fe5dd6ea2639a6df622901539cb550cf8797e5a6b2dd7af1cf934bed8e233e6e\\cache-32a6a24dc7b08946.arrow\n"
     ]
    },
    {
     "data": {
      "application/vnd.jupyter.widget-view+json": {
       "model_id": "4dbfb79970644a72ab9926ae6fe930cc",
       "version_major": 2,
       "version_minor": 0
      },
      "text/plain": [
       "Map:   0%|          | 0/10995 [00:00<?, ? examples/s]"
      ]
     },
     "metadata": {},
     "output_type": "display_data"
    },
    {
     "name": "stderr",
     "output_type": "stream",
     "text": [
      "Loading cached processed dataset at D:\\hf_datasets\\json\\default-5075b1c63c2a9678\\0.0.0\\fe5dd6ea2639a6df622901539cb550cf8797e5a6b2dd7af1cf934bed8e233e6e\\cache-32a6a24dc7b08946.arrow\n"
     ]
    },
    {
     "data": {
      "application/vnd.jupyter.widget-view+json": {
       "model_id": "5f0691c786d346b8b2e052d811aa1942",
       "version_major": 2,
       "version_minor": 0
      },
      "text/plain": [
       "Map:   0%|          | 0/10995 [00:00<?, ? examples/s]"
      ]
     },
     "metadata": {},
     "output_type": "display_data"
    },
    {
     "name": "stderr",
     "output_type": "stream",
     "text": [
      "Loading cached processed dataset at D:\\hf_datasets\\json\\default-5075b1c63c2a9678\\0.0.0\\fe5dd6ea2639a6df622901539cb550cf8797e5a6b2dd7af1cf934bed8e233e6e\\cache-32a6a24dc7b08946.arrow\n"
     ]
    },
    {
     "data": {
      "application/vnd.jupyter.widget-view+json": {
       "model_id": "0febd3679e6f47edb691fa69a337edfb",
       "version_major": 2,
       "version_minor": 0
      },
      "text/plain": [
       "Map:   0%|          | 0/10995 [00:00<?, ? examples/s]"
      ]
     },
     "metadata": {},
     "output_type": "display_data"
    },
    {
     "name": "stderr",
     "output_type": "stream",
     "text": [
      "Loading cached processed dataset at D:\\hf_datasets\\json\\default-5075b1c63c2a9678\\0.0.0\\fe5dd6ea2639a6df622901539cb550cf8797e5a6b2dd7af1cf934bed8e233e6e\\cache-32a6a24dc7b08946.arrow\n"
     ]
    },
    {
     "data": {
      "application/vnd.jupyter.widget-view+json": {
       "model_id": "900f248ad5b24bb6b058244a972b187b",
       "version_major": 2,
       "version_minor": 0
      },
      "text/plain": [
       "Map:   0%|          | 0/10995 [00:00<?, ? examples/s]"
      ]
     },
     "metadata": {},
     "output_type": "display_data"
    }
   ],
   "source": [
    "distances = {}\n",
    "for window_size in [1,3,7,11]:\n",
    "    distances[window_size] = []\n",
    "    ml_baseline = MLBaseline(model, XGBClassifier(), window_size=window_size)\n",
    "    X, y = ml_baseline.prepare_dataset(dataset_ner['train'])\n",
    "    X, y = ml_baseline.downsample_other(X, y, n_o_selected=10000)\n",
    "    normalized_X = X / np.sqrt(np.sum(X**2, axis=1, keepdims=True))\n",
    "\n",
    "    unique_labels = np.unique(y)\n",
    "    for label in unique_labels:\n",
    "        for other_label in unique_labels:\n",
    "            if label == other_label:\n",
    "                continue\n",
    "            label_vectors = normalized_X[y == label]\n",
    "            other_label_vectors = normalized_X[y == other_label]\n",
    "\n",
    "            distances[window_size].append({\n",
    "                \"word\": ml_baseline.class_labels.int2str(label.item())[:5],\n",
    "                \"other_word\": ml_baseline.class_labels.int2str(other_label.item())[:5],\n",
    "                \"avg_similarity\": (label_vectors @ other_label_vectors.T).mean()\n",
    "            }) "
   ]
  },
  {
   "cell_type": "code",
   "execution_count": 68,
   "metadata": {},
   "outputs": [],
   "source": [
    "import pandas as pd\n",
    "import plotly.express as px\n"
   ]
  },
  {
   "cell_type": "code",
   "execution_count": 73,
   "metadata": {},
   "outputs": [],
   "source": [
    "for window_size in distances.keys():\n",
    "    # Make other_word column a column index\n",
    "    df = pd.DataFrame(distances[window_size])\n",
    "    #df.set_index([\"word\"])\n",
    "    df = pd.pivot_table(df, index=[\"word\"], columns=[\"other_word\"], fill_value=0).droplevel(0, axis=1)\n",
    "\n",
    "    fig = px.imshow(df, title=f\"Window size {window_size}\")\n",
    "    fig.write_html(f\"average_window{window_size}.html\")"
   ]
  },
  {
   "attachments": {},
   "cell_type": "markdown",
   "metadata": {},
   "source": [
    "### See the distribution of tokens\n",
    "\n"
   ]
  },
  {
   "cell_type": "code",
   "execution_count": 27,
   "metadata": {},
   "outputs": [
    {
     "name": "stderr",
     "output_type": "stream",
     "text": [
      "Loading cached processed dataset at D:\\hf_datasets\\json\\default-5075b1c63c2a9678\\0.0.0\\fe5dd6ea2639a6df622901539cb550cf8797e5a6b2dd7af1cf934bed8e233e6e\\cache-f1775f2fa62085cf.arrow\n"
     ]
    },
    {
     "data": {
      "application/vnd.jupyter.widget-view+json": {
       "model_id": "f3e1c12e602940ceb7887a87f33ebccd",
       "version_major": 2,
       "version_minor": 0
      },
      "text/plain": [
       "Map:   0%|          | 0/10995 [00:00<?, ? examples/s]"
      ]
     },
     "metadata": {},
     "output_type": "display_data"
    },
    {
     "name": "stderr",
     "output_type": "stream",
     "text": [
      "Loading cached processed dataset at D:\\hf_datasets\\json\\default-5075b1c63c2a9678\\0.0.0\\fe5dd6ea2639a6df622901539cb550cf8797e5a6b2dd7af1cf934bed8e233e6e\\cache-f1775f2fa62085cf.arrow\n"
     ]
    },
    {
     "data": {
      "text/plain": [
       "<BarContainer object of 29 artists>"
      ]
     },
     "execution_count": 27,
     "metadata": {},
     "output_type": "execute_result"
    },
    {
     "data": {
      "image/png": "[encoded data removed]",
      "text/plain": [
       "<Figure size 2000x500 with 1 Axes>"
      ]
     },
     "metadata": {},
     "output_type": "display_data"
    }
   ],
   "source": [
    "import matplotlib.pyplot as plt\n",
    "from utils import cast_ner_labels_to_int\n",
    "from pylab import rcParams\n",
    "rcParams['figure.figsize'] = 20, 5\n",
    "\n",
    "X, y = ml_baseline.prepare_dataset(dataset_ner['train'])\n",
    "casted = cast_ner_labels_to_int(dataset_ner['train'])\n",
    "\n",
    "class_labels = casted.features['ner_tags'].feature\n",
    "classes, counts = np.unique(y, return_counts=True)\n",
    "\n",
    "plt.barh(class_labels.int2str(classes), counts)"
   ]
  },
  {
   "attachments": {},
   "cell_type": "markdown",
   "metadata": {},
   "source": [
    "### Trying simple multihead attention"
   ]
  },
  {
   "attachments": {},
   "cell_type": "markdown",
   "metadata": {},
   "source": []
  }
 ],
 "metadata": {
  "kernelspec": {
   "display_name": "base",
   "language": "python",
   "name": "python3"
  },
  "language_info": {
   "codemirror_mode": {
    "name": "ipython",
    "version": 3
   },
   "file_extension": ".py",
   "mimetype": "text/x-python",
   "name": "python",
   "nbconvert_exporter": "python",
   "pygments_lexer": "ipython3",
   "version": "3.10.10"
  },
  "orig_nbformat": 4
 },
 "nbformat": 4,
 "nbformat_minor": 2
}
